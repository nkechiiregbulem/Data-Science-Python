{
 "cells": [
  {
   "cell_type": "markdown",
   "metadata": {},
   "source": [
    "<p class=\"pull-left\">\n",
    "COMP 061 - Programming for Data Science\n",
    "</p>\n",
    "<div class=\"pull-right\">\n",
    "<ul class=\"list-inline\">\n",
    "Copyright © Dana Nehoran 2017\n",
    "</ul>\n",
    "</div>"
   ]
  },
  {
   "cell_type": "markdown",
   "metadata": {},
   "source": [
    " <div style=\"background-color: #FFF8C6; border:1px solid #000; margin-left: 2px; margin-right: 2px; \n",
    "\n",
    "padding-bottom: 2px; padding-left: 2px; padding-right: 1px; padding-top: 10px;\">\n",
    "<center><b><font size=\"6\">Lab Week 4</font></b></center>\n",
    "</div>"
   ]
  },
  {
   "cell_type": "code",
   "execution_count": 17,
   "metadata": {},
   "outputs": [],
   "source": [
    "# Preparation for pandas and NumPy\n",
    "import numpy as np\n",
    "import pandas as pd\n",
    "from pandas import DataFrame, Series\n",
    "\n",
    "# Set some pandas options\n",
    "pd.set_option('display.notebook_repr_html', False)\n",
    "pd.set_option('display.max_rows', 60)\n",
    "pd.set_option('display.max_columns', 60)\n",
    "pd.set_option('display.width', 1000)\n",
    "\n",
    "# Preparation for matplotlib\n",
    "%matplotlib inline "
   ]
  },
  {
   "cell_type": "code",
   "execution_count": 18,
   "metadata": {},
   "outputs": [],
   "source": [
    "class color:\n",
    "   PURPLE = '\\033[95m'\n",
    "   CYAN = '\\033[96m'\n",
    "   DARKCYAN = '\\033[36m'\n",
    "   BLUE = '\\033[94m'\n",
    "   GREEN = '\\033[92m'\n",
    "   YELLOW = '\\033[93m'\n",
    "   RED = '\\033[91m'\n",
    "   BOLD = '\\033[1m'\n",
    "   UNDERLINE = '\\033[4m'\n",
    "   END = '\\033[0m'"
   ]
  },
  {
   "cell_type": "markdown",
   "metadata": {},
   "source": [
    "Data: `Rio 2016 Olympic Athletes.xlsx`"
   ]
  },
  {
   "cell_type": "markdown",
   "metadata": {},
   "source": [
    "<blockquote style=\"border: 2px solid #666; padding: 10px; background-color: #99e6ff\"><b> Question 1:</b> Data Exploration\n",
    "<div class=\"pull-right\">\n",
    "Practice for HW question 1\n",
    "</div>\n",
    "</blockquote>"
   ]
  },
  {
   "cell_type": "markdown",
   "metadata": {},
   "source": [
    "<b><font color=\"blue\", size = 4>a)</font></b> Explore your data in 10 steps and draw some conclusions"
   ]
  },
  {
   "cell_type": "markdown",
   "metadata": {},
   "source": [
    "<span style=\"background-color: #FFFF00\">Your answer here</span>"
   ]
  },
  {
   "cell_type": "code",
   "execution_count": 3,
   "metadata": {},
   "outputs": [
    {
     "data": {
      "text/plain": [
       "(11538, 14)"
      ]
     },
     "execution_count": 3,
     "metadata": {},
     "output_type": "execute_result"
    }
   ],
   "source": [
    "athletes = pd.read_excel('Rio 2016 Olympic Athletes.xlsx')\n",
    "athletes.shape"
   ]
  },
  {
   "cell_type": "markdown",
   "metadata": {},
   "source": [
    "There are 11538 Athletes with 14 fields"
   ]
  },
  {
   "cell_type": "code",
   "execution_count": 4,
   "metadata": {},
   "outputs": [
    {
     "data": {
      "text/plain": [
       "Index(['id', 'name', 'first', 'last', 'nationality', 'gender', 'dob', 'age', 'height', 'weight', 'sport', 'gold', 'silver', 'bronze'], dtype='object')"
      ]
     },
     "execution_count": 4,
     "metadata": {},
     "output_type": "execute_result"
    }
   ],
   "source": [
    "athletes.columns"
   ]
  },
  {
   "cell_type": "code",
   "execution_count": 5,
   "metadata": {},
   "outputs": [
    {
     "data": {
      "text/plain": [
       "array(['athletics', 'fencing', 'taekwondo', 'cycling', 'triathlon',\n",
       "       'volleyball', 'aquatics', 'rugby sevens', 'wrestling', 'football',\n",
       "       'shooting', 'boxing', 'equestrian', 'rowing', 'judo', 'handball',\n",
       "       'badminton', 'hockey', 'modern pentathlon', 'table tennis',\n",
       "       'canoe', 'basketball', 'golf', 'archery', 'weightlifting',\n",
       "       'sailing', 'tennis', 'gymnastics'], dtype=object)"
      ]
     },
     "execution_count": 5,
     "metadata": {},
     "output_type": "execute_result"
    }
   ],
   "source": [
    "athletes.sport.unique()"
   ]
  },
  {
   "cell_type": "code",
   "execution_count": 6,
   "metadata": {},
   "outputs": [
    {
     "data": {
      "text/plain": [
       "(28,)"
      ]
     },
     "execution_count": 6,
     "metadata": {},
     "output_type": "execute_result"
    }
   ],
   "source": [
    "athletes.sport.unique().shape\n"
   ]
  },
  {
   "cell_type": "markdown",
   "metadata": {},
   "source": [
    "There are 28 sports being played in the 2016 Rio Olympic Games"
   ]
  },
  {
   "cell_type": "code",
   "execution_count": 7,
   "metadata": {},
   "outputs": [
    {
     "data": {
      "text/plain": [
       "array(['ESP', 'KOR', 'CAN', 'MDA', 'NZL', 'AUS', 'USA', 'ETH', 'BRN',\n",
       "       'IOA', 'GBR', 'UZB', 'RSA', 'EGY', 'MAR', 'QAT', 'SUD', 'ALG',\n",
       "       'DEN', 'NED', 'DJI', 'SEN', 'CMR', 'ITA', 'NIG', 'SWE', 'GHA',\n",
       "       'AFG', 'AZE', 'KSA', 'BAN', 'NGR', 'RUS', 'IND', 'HUN', 'KAZ',\n",
       "       'BDI', 'ERI', 'POL', 'BRA', 'GEO', 'CZE', 'SEY', 'GAM', 'LTU',\n",
       "       'IRI', 'ROU', 'CUB', 'SLO', 'BAH', 'ARG', 'PUR', 'FRA', 'RWA',\n",
       "       'TOG', 'MDV', 'TUN', 'ISR', 'LAT', 'JOR', 'MAS', 'LIB', 'LBA',\n",
       "       'PLE', 'IRQ', 'TUR', 'VEN', 'JPN', 'TPE', 'KGZ', 'CHN', 'MEX',\n",
       "       'GRE', 'IRL', 'JAM', 'SUI', 'BAR', 'HON', 'ANG', 'GER', 'COL',\n",
       "       'URU', 'MNE', 'SRB', 'BUL', 'FIN', 'UKR', 'BLR', 'SMR', 'COK',\n",
       "       'SAM', 'AUT', 'BEL', 'KEN', 'SVK', 'POR', 'ECU', 'UAE', 'NAM',\n",
       "       'GUY', 'EST', 'SKN', 'ARU', 'PAN', 'PER', 'TAN', 'FIJ', 'GUI',\n",
       "       'NOR', 'ARM', 'THA', 'SIN', 'TKM', 'CRO', 'BIH', 'TGA', 'MAW',\n",
       "       'DOM', 'GUA', 'MKD', 'TJK', 'CYP', 'CHI', 'MLT', 'ZIM', 'TTO',\n",
       "       'CRC', 'BOL', 'BUR', 'ISL', 'HAI', 'ROT', 'MGL', 'MAD', 'GAB',\n",
       "       'SRI', 'LAO', 'MRI', 'PAR', 'IVB', 'GBS', 'TLS', 'MLI', 'SYR',\n",
       "       'BOT', 'CHA', 'OMA', 'COD', 'CIV', 'GEQ', 'UGA', 'GUM', 'ASA',\n",
       "       'ZAM', 'VAN', 'GRN', 'BIZ', 'VIN', 'MON', 'ALB', 'STP', 'SLE',\n",
       "       'BER', 'HKG', 'ISV', 'CGO', 'ANT', 'BEN', 'LUX', 'PHI', 'CAF',\n",
       "       'PRK', 'LIE', 'MHL', 'NCA', 'KIR', 'CPV', 'INA', 'FSM', 'COM',\n",
       "       'PLW', 'MYA', 'NRU', 'LBR', 'ESA', 'AND', 'TUV', 'SUR', 'CAY',\n",
       "       'NEP', 'PAK', 'SSD', 'MTN', 'VIE', 'MOZ', 'LES', 'LCA', 'BRU',\n",
       "       'SOL', 'BHU', 'CAM', 'KOS', 'SOM', 'PNG', 'YEM', 'SWZ', 'DMA'],\n",
       "      dtype=object)"
      ]
     },
     "execution_count": 7,
     "metadata": {},
     "output_type": "execute_result"
    }
   ],
   "source": [
    "athletes.nationality.unique()"
   ]
  },
  {
   "cell_type": "code",
   "execution_count": 8,
   "metadata": {},
   "outputs": [
    {
     "data": {
      "text/plain": [
       "(207,)"
      ]
     },
     "execution_count": 8,
     "metadata": {},
     "output_type": "execute_result"
    }
   ],
   "source": [
    "athletes.nationality.unique().shape"
   ]
  },
  {
   "cell_type": "markdown",
   "metadata": {},
   "source": [
    "There are 207 countries/nationalities participating in the 2016 Rio Olympic Games"
   ]
  },
  {
   "cell_type": "code",
   "execution_count": 9,
   "metadata": {},
   "outputs": [
    {
     "data": {
      "text/plain": [
       "           first        last  age         sport\n",
       "6          Aaron     Russell   25    volleyball\n",
       "13         Abbey  D'Agostino   26     athletics\n",
       "14         Abbey    Weitzeil   22      aquatics\n",
       "64       Abigail    Johnston   29      aquatics\n",
       "104      Adeline        Gray   27     wrestling\n",
       "136     Adrienne    Martelli   31        rowing\n",
       "229         Ajee      Wilson   24     athletics\n",
       "232      Akalani  Baravilala   27  rugby sevens\n",
       "334       Alesha     Widdall   28        hockey\n",
       "348         Alev      Kelter   27  rugby sevens\n",
       "352         Alex       Bowen   25      aquatics\n",
       "361         Alex      Morgan   29      football\n",
       "362         Alex       Obert   27      aquatics\n",
       "364         Alex      Roelse   23      aquatics\n",
       "385    Alexander    Karwoski   28        rowing\n",
       "391    Alexander   Massialas   24       fencing\n",
       "394    Alexander     Naddour   27    gymnastics\n",
       "418    Alexandra     Raisman   24    gymnastics\n",
       "466          Ali     Krieger   34      football\n",
       "514        Alisa        Kano   24    gymnastics\n",
       "516        Alise        Post   27       cycling\n",
       "517       Alisha       Glass   30    volleyball\n",
       "535        Allie        Long   31      football\n",
       "537      Allison       Brock   39    equestrian\n",
       "539      Allison     Schmitt   28      aquatics\n",
       "542      Allyson       Felix   33     athletics\n",
       "568       Alyssa      Manley   24        hockey\n",
       "569       Alyssa      Naeher   30      football\n",
       "584       Amanda      Elmore   27        rowing\n",
       "589       Amanda        Polk   32        rowing\n",
       "...          ...         ...  ...           ...\n",
       "10470     Tianna  Bartoletta   33     athletics\n",
       "10516    Timothy        Wang   27  table tennis\n",
       "10521       Tina     Charles   30    basketball\n",
       "10554      Tobin       Heath   30      football\n",
       "10572        Tom     Shields   27      aquatics\n",
       "10602       Tony     Azevedo   37      aquatics\n",
       "10605       Tony      McQuay   28     athletics\n",
       "10611       Tori       Bowie   28     athletics\n",
       "10617    Townley        Haas   22      aquatics\n",
       "10619      Tracy      Eisser   29        rowing\n",
       "10622     Travis     Stevens   32          judo\n",
       "10623    Trayvon     Bromell   23     athletics\n",
       "10662      Tyler        Nase   28        rowing\n",
       "10667      Tyson         Gay   36     athletics\n",
       "10761     Vashti  Cunningham   20     athletics\n",
       "10780      Venus    Williams   38        tennis\n",
       "10819   Victoria     Folayan   33  rugby sevens\n",
       "10868    Vincent     Hancock   29      shooting\n",
       "10884   Virginia    Thrasher   21      shooting\n",
       "10949     Walton       Eller   36      shooting\n",
       "10993    Whitney      Ashley   29     athletics\n",
       "10994    Whitney       Engen   31      football\n",
       "11000       Will       Brown   27      shooting\n",
       "11001       Will       Claye   27     athletics\n",
       "11018    William      Priddy   41    volleyball\n",
       "11242      Yijun        Feng   21  table tennis\n",
       "11339        Yue          Wu   28  table tennis\n",
       "11436       Zach     Garrett   23       archery\n",
       "11437       Zach      Ziemek   25     athletics\n",
       "11439       Zack        Test   29  rugby sevens\n",
       "\n",
       "[567 rows x 4 columns]"
      ]
     },
     "execution_count": 9,
     "metadata": {},
     "output_type": "execute_result"
    }
   ],
   "source": [
    "USA_athletes = athletes[athletes.nationality == 'USA']\n",
    "USA_athletes[[\"first\", \"last\", \"age\", \"sport\"]]"
   ]
  },
  {
   "cell_type": "markdown",
   "metadata": {},
   "source": [
    "There are 567 Americans participating in the 2016 Rio Olympic Games."
   ]
  },
  {
   "cell_type": "code",
   "execution_count": 10,
   "metadata": {},
   "outputs": [
    {
     "data": {
      "text/plain": [
       "nationality\n",
       "USA    567\n",
       "BRA    485\n",
       "GER    441\n",
       "AUS    431\n",
       "FRA    410\n",
       "CHN    404\n",
       "GBR    374\n",
       "JPN    346\n",
       "CAN    321\n",
       "ESP    313\n",
       "ITA    312\n",
       "RUS    286\n",
       "NED    249\n",
       "POL    242\n",
       "ARG    223\n",
       "KOR    213\n",
       "NZL    208\n",
       "UKR    205\n",
       "SWE    164\n",
       "HUN    154\n",
       "dtype: int64"
      ]
     },
     "execution_count": 10,
     "metadata": {},
     "output_type": "execute_result"
    }
   ],
   "source": [
    "athletes.groupby(athletes.nationality).size().sort_values(ascending = False)[0:20]"
   ]
  },
  {
   "cell_type": "markdown",
   "metadata": {},
   "source": [
    "USA & Brazil have the most participating athletes in the 2016 Rio Olympic Games"
   ]
  },
  {
   "cell_type": "code",
   "execution_count": 11,
   "metadata": {},
   "outputs": [
    {
     "data": {
      "text/plain": [
       "age  sport            \n",
       "16   aquatics               8\n",
       "17   aquatics               6\n",
       "     table tennis           1\n",
       "18   aquatics              23\n",
       "     athletics              3\n",
       "     fencing                1\n",
       "     football               1\n",
       "     gymnastics            11\n",
       "     shooting               1\n",
       "     table tennis           4\n",
       "     weightlifting          1\n",
       "19   aquatics              38\n",
       "     archery                2\n",
       "     athletics              8\n",
       "     fencing                1\n",
       "     football               2\n",
       "     gymnastics            21\n",
       "     modern pentathlon      1\n",
       "     sailing                2\n",
       "     shooting               4\n",
       "     taekwondo              1\n",
       "     weightlifting          2\n",
       "20   aquatics              52\n",
       "     archery                4\n",
       "     athletics             24\n",
       "     boxing                 2\n",
       "     canoe                  2\n",
       "     cycling                1\n",
       "     equestrian             1\n",
       "     fencing                1\n",
       "                         ... \n",
       "23   weightlifting         17\n",
       "     wrestling             13\n",
       "24   aquatics             147\n",
       "     archery               12\n",
       "     athletics            181\n",
       "     badminton             13\n",
       "     basketball            12\n",
       "     boxing                18\n",
       "     canoe                 16\n",
       "     cycling               37\n",
       "     equestrian             2\n",
       "     fencing               12\n",
       "     football             104\n",
       "     golf                   5\n",
       "     gymnastics            31\n",
       "     handball              16\n",
       "     hockey                34\n",
       "     judo                  28\n",
       "     modern pentathlon      1\n",
       "     rowing                28\n",
       "     rugby sevens          18\n",
       "     sailing               13\n",
       "     shooting              11\n",
       "     table tennis          15\n",
       "     taekwondo             11\n",
       "     tennis                12\n",
       "     triathlon              6\n",
       "     volleyball            16\n",
       "     weightlifting         18\n",
       "     wrestling             25\n",
       "Length: 152, dtype: int64"
      ]
     },
     "execution_count": 11,
     "metadata": {},
     "output_type": "execute_result"
    }
   ],
   "source": [
    "athletes[athletes.age < 25].groupby([\"age\", \"sport\"]).size()"
   ]
  },
  {
   "cell_type": "markdown",
   "metadata": {},
   "source": [
    "The youngest athletes is 16 playing the sport aquatics."
   ]
  },
  {
   "cell_type": "code",
   "execution_count": 12,
   "metadata": {},
   "outputs": [
    {
     "data": {
      "text/plain": [
       "age  sport        \n",
       "118  sailing            1\n",
       "42   badminton          1\n",
       "     canoe              1\n",
       "     fencing            1\n",
       "     golf               1\n",
       "     handball           1\n",
       "     tennis             1\n",
       "43   aquatics           1\n",
       "     cycling            1\n",
       "     football           1\n",
       "     gymnastics         1\n",
       "     rowing             1\n",
       "23   triathlon          1\n",
       "43   weightlifting      1\n",
       "44   fencing            1\n",
       "     rowing             1\n",
       "     table tennis       1\n",
       "23   equestrian         1\n",
       "45   sailing            1\n",
       "     tennis             1\n",
       "46   archery            1\n",
       "22   triathlon          1\n",
       "46   handball           1\n",
       "     rowing             1\n",
       "     sailing            1\n",
       "     tennis             1\n",
       "47   cycling            1\n",
       "     golf               1\n",
       "     sailing            1\n",
       "48   golf               1\n",
       "                     ... \n",
       "36   athletics         60\n",
       "28   rowing            60\n",
       "31   aquatics          63\n",
       "35   athletics         64\n",
       "23   football          72\n",
       "30   aquatics          72\n",
       "29   aquatics          77\n",
       "34   athletics         91\n",
       "22   athletics         95\n",
       "21   aquatics          96\n",
       "24   football         104\n",
       "28   aquatics         105\n",
       "23   athletics        108\n",
       "33   athletics        111\n",
       "27   aquatics         111\n",
       "26   aquatics         113\n",
       "22   aquatics         118\n",
       "23   aquatics         126\n",
       "25   football         128\n",
       "32   athletics        133\n",
       "31   athletics        135\n",
       "25   aquatics         141\n",
       "24   aquatics         147\n",
       "30   athletics        177\n",
       "24   athletics        181\n",
       "29   athletics        183\n",
       "25   athletics        186\n",
       "26   athletics        195\n",
       "28   athletics        196\n",
       "27   athletics        199\n",
       "Length: 690, dtype: int64"
      ]
     },
     "execution_count": 12,
     "metadata": {},
     "output_type": "execute_result"
    }
   ],
   "source": [
    "athletes[athletes.age >16].groupby([\"age\", \"sport\"]).size().sort_values(ascending = True)"
   ]
  },
  {
   "cell_type": "markdown",
   "metadata": {},
   "source": [
    "The oldest is oddly 118 playing the sport \"sailing\"."
   ]
  },
  {
   "cell_type": "code",
   "execution_count": 13,
   "metadata": {},
   "outputs": [
    {
     "data": {
      "text/plain": [
       "nationality  sport     weight\n",
       "ALG          football  60.0      3\n",
       "                       62.0      1\n",
       "                       65.0      5\n",
       "                       68.0      1\n",
       "                       70.0      3\n",
       "                       72.0      1\n",
       "                       75.0      6\n",
       "                       79.0      1\n",
       "                       80.0      1\n",
       "ARG          football  65.0      1\n",
       "                       66.0      1\n",
       "                       69.0      1\n",
       "                       70.0      4\n",
       "                       71.0      2\n",
       "                       72.0      1\n",
       "                       73.0      1\n",
       "                       74.0      1\n",
       "                       75.0      1\n",
       "                       76.0      2\n",
       "                       77.0      1\n",
       "                       78.0      1\n",
       "                       79.0      1\n",
       "                       80.0      2\n",
       "                       82.0      1\n",
       "AUS          football  54.0      1\n",
       "                       55.0      2\n",
       "                       56.0      1\n",
       "                       58.0      2\n",
       "                       60.0      3\n",
       "                       61.0      1\n",
       "                                ..\n",
       "SWE          football  74.0      5\n",
       "                       75.0      2\n",
       "                       77.0      3\n",
       "                       78.0      3\n",
       "                       79.0      1\n",
       "                       80.0      3\n",
       "                       85.0      1\n",
       "                       88.0      1\n",
       "USA          football  54.0      4\n",
       "                       56.0      3\n",
       "                       59.0      4\n",
       "                       60.0      2\n",
       "                       61.0      4\n",
       "                       63.0      1\n",
       "                       64.0      1\n",
       "                       67.0      1\n",
       "                       74.0      1\n",
       "                       76.0      1\n",
       "ZIM          football  50.0      1\n",
       "                       53.0      6\n",
       "                       54.0      1\n",
       "                       56.0      1\n",
       "                       57.0      1\n",
       "                       59.0      4\n",
       "                       60.0      2\n",
       "                       61.0      2\n",
       "                       65.0      1\n",
       "                       68.0      1\n",
       "                       69.0      1\n",
       "                       70.0      1\n",
       "Length: 331, dtype: int64"
      ]
     },
     "execution_count": 13,
     "metadata": {},
     "output_type": "execute_result"
    }
   ],
   "source": [
    "tf = athletes[athletes.sport == \"football\"]\n",
    "tf.groupby([\"nationality\", \"sport\", \"weight\"]).size()"
   ]
  },
  {
   "cell_type": "markdown",
   "metadata": {},
   "source": [
    "These are the countries that are participating in the sport, Football."
   ]
  },
  {
   "cell_type": "code",
   "execution_count": 14,
   "metadata": {},
   "outputs": [],
   "source": [
    "Hockey_df = athletes[athletes.sport == \"Hockey\"]\n",
    "for row in Hockey_df.groupby([\"nationality\", \"sport\"]).size().iteritems():\n",
    "    print (row)"
   ]
  },
  {
   "cell_type": "code",
   "execution_count": 15,
   "metadata": {},
   "outputs": [],
   "source": [
    "for index, my_item in Hockey_df.iterrows():\n",
    "    print (\"\\n--------------------------------\")\n",
    "    print (color.RED + color.BOLD + \"Name: \" + color.END, my_item.last, \", \", my_item.first)\n",
    "    print (color.RED + color.BOLD + \"Position: \"+ color.END, my_item.weight)\n",
    "    print (color.RED + color.BOLD + \"Height (inches): \"+ color.END, my_item.height_in)\n",
    "    print (my_item.nationality)"
   ]
  },
  {
   "cell_type": "markdown",
   "metadata": {},
   "source": [
    "<blockquote style=\"border: 2px solid #666; padding: 10px; background-color: #99e6ff\"><b> Question 2:</b> Plot\n",
    "<div class=\"pull-right\">\n",
    "Practice for HW question 1\n",
    "</div>\n",
    "</blockquote>"
   ]
  },
  {
   "cell_type": "markdown",
   "metadata": {},
   "source": [
    "<b><font color=\"blue\", size = 4>b)</font></b> Create a plot and explain it"
   ]
  },
  {
   "cell_type": "markdown",
   "metadata": {},
   "source": [
    "<span style=\"background-color: #FFFF00\">Your answer here</span>"
   ]
  },
  {
   "cell_type": "code",
   "execution_count": 16,
   "metadata": {},
   "outputs": [
    {
     "data": {
      "text/plain": [
       "Text(0,0.5,'Sport')"
      ]
     },
     "execution_count": 16,
     "metadata": {},
     "output_type": "execute_result"
    },
    {
     "data": {
      "image/png": "[encoded data removed]",
      "text/plain": [
       "<Figure size 1440x720 with 1 Axes>"
      ]
     },
     "metadata": {},
     "output_type": "display_data"
    }
   ],
   "source": [
    "my_plot = athletes.groupby([\"sport\"]).size().plot(kind=\"barh\", fontsize = 18, figsize = (20, 10))\n",
    "my_plot.set_title(\"Athletes per Sport\", fontsize = 40)\n",
    "my_plot.set_xlabel(\"Number of Athletes\", fontsize = 30, color = \"blue\")\n",
    "my_plot.set_ylabel(\"Sport\", fontsize = 30, color = \"red\")"
   ]
  },
  {
   "cell_type": "code",
   "execution_count": null,
   "metadata": {},
   "outputs": [],
   "source": []
  }
 ],
 "metadata": {
  "kernelspec": {
   "display_name": "Python 3",
   "language": "python",
   "name": "python3"
  },
  "language_info": {
   "codemirror_mode": {
    "name": "ipython",
    "version": 3
   },
   "file_extension": ".py",
   "mimetype": "text/x-python",
   "name": "python",
   "nbconvert_exporter": "python",
   "pygments_lexer": "ipython3",
   "version": "3.6.5"
  }
 },
 "nbformat": 4,
 "nbformat_minor": 2
}
