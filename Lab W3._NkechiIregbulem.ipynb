{
 "cells": [
  {
   "cell_type": "markdown",
   "metadata": {},
   "source": [
    "<p class=\"pull-left\">\n",
    "COMP 061 - Programming for Data Science\n",
    "</p>\n",
    "<div class=\"pull-right\">\n",
    "<ul class=\"list-inline\">\n",
    "Copyright © Dana Nehoran 2017\n",
    "</ul>\n",
    "</div>"
   ]
  },
  {
   "cell_type": "markdown",
   "metadata": {},
   "source": [
    "<div style=\"background-color: #FFF8C6; border:1px solid #000; margin-left: 2px; margin-right: 2px; \n",
    "\n",
    "padding-bottom: 2px; padding-left: 2px; padding-right: 1px; padding-top: 10px;\">\n",
    "<center><b><font size=\"6\">Lab Week 3</font></b></center>\n",
    "</div>"
   ]
  },
  {
   "cell_type": "code",
   "execution_count": 1,
   "metadata": {},
   "outputs": [],
   "source": [
    "# Preparation for pandas and NumPy\n",
    "import numpy as np\n",
    "import pandas as pd\n",
    "from pandas import DataFrame, Series\n",
    "\n",
    "# Set some pandas options\n",
    "pd.set_option('display.notebook_repr_html', False)\n",
    "pd.set_option('display.max_rows', 60)\n",
    "pd.set_option('display.max_columns', 60)\n",
    "pd.set_option('display.width', 1000)\n",
    "\n",
    "# Preparation for matplotlib\n",
    "%matplotlib inline "
   ]
  },
  {
   "cell_type": "markdown",
   "metadata": {},
   "source": [
    "Sales and Rentals data: `Sales and Rentals.csv`"
   ]
  },
  {
   "cell_type": "markdown",
   "metadata": {},
   "source": [
    "<blockquote style=\"border: 2px solid #666; padding: 10px; background-color: #99e6ff\"><b> Question 1:</b> Data Exploration\n",
    "<div class=\"pull-right\">\n",
    "Practice for HW question 1\n",
    "</div>\n",
    "</blockquote>"
   ]
  },
  {
   "cell_type": "markdown",
   "metadata": {},
   "source": [
    "<b><font color=\"blue\", size = 4>a)</font></b> Read the data from the file `Sales and Rentals.csv` into a pandas dataframe and print it."
   ]
  },
  {
   "cell_type": "markdown",
   "metadata": {},
   "source": [
    "<span style=\"background-color: #FFFF00\">Your answer here</span>"
   ]
  },
  {
   "cell_type": "code",
   "execution_count": 2,
   "metadata": {},
   "outputs": [],
   "source": [
    "my_dataframe = pd.read_csv(\"Sales and Rentals.csv\")"
   ]
  },
  {
   "cell_type": "code",
   "execution_count": 3,
   "metadata": {},
   "outputs": [
    {
     "data": {
      "text/plain": [
       "    id property_type  condition property_style  zipcode  property_size  bedroom  bath     price   lease\n",
       "0    1         sales          0   multi-family    10001           1343        1   1.0  200000.0     NaN\n",
       "1    2         sales          1      apartment    10002           4460        1   1.0  200000.0     NaN\n",
       "2    3         sales          2          condo    10003           3742        1   1.0  200000.0     NaN\n",
       "3    4         sales          3          condo    10004           3481        1   1.0  200000.0     NaN\n",
       "4    5         sales          4       townhome    10005           4398        2   1.0  250000.0     NaN\n",
       "5    6         sales          0  single-family    10006           2424        3   2.0  250000.0     NaN\n",
       "6    7         sales          1       colonial    10007           1633        3   2.0  300000.0     NaN\n",
       "7    8         sales          2       colonial    10008           1630        3   2.0  325000.0     NaN\n",
       "8    9         sales          3       cape cod    10009           3767        3   2.0  350000.0     NaN\n",
       "9   10         sales          4      classical    10010           4304        3   2.0  375000.0     NaN\n",
       "10  11         sales          0       colonial    10011           3971        3   2.0  350000.0     NaN\n",
       "11  12         sales          1       colonial    10012           3994        3   2.0  400000.0     NaN\n",
       "12  13         sales          2       colonial    10013           3221        3   2.0  450000.0     NaN\n",
       "13  14         sales          3     antebellum    10014           1019        3   2.0  450000.0     NaN\n",
       "14  15         sales          4      victorian    10016           3588        3   2.0  475000.0     NaN\n",
       "15  16         sales          0         gothic    10017           1548        3   2.5  400000.0     NaN\n",
       "16  17         sales          1   multi-family    10018           3146        3   2.5  425000.0     NaN\n",
       "17  18         sales          2   multi-family    10019           3425        3   2.5  450000.0     NaN\n",
       "18  19         sales          3   contemporary    10020           3958        3   2.5  500000.0     NaN\n",
       "19  20         sales          4   contemporary    10021           1474        3   2.5  600000.0     NaN\n",
       "20  21         sales          0       colonial    10022           3944        3   2.5  500000.0     NaN\n",
       "21  22         sales          1       colonial    10023           2640        3   2.5  550000.0     NaN\n",
       "22  23         sales          2       colonial    10024           4097        3   2.5  600000.0     NaN\n",
       "23  24         sales          3   multi-family    10025           2299        4   3.0  700000.0     NaN\n",
       "24  25         sales          4      victorian    10026           1930        4   3.0  750000.0     NaN\n",
       "25  26       rentals          0   multi-family    10027           1416        1   1.0       NaN  1000.0\n",
       "26  27       rentals          1   contemporary    10028           1555        1   1.0       NaN  1000.0\n",
       "27  28       rentals          2   contemporary    10029           3120        1   1.0       NaN  1000.0\n",
       "28  29       rentals          3   contemporary    10030           1356        1   1.0       NaN  1000.0\n",
       "29  30       rentals          4       townhome    10031           4355        2   1.0       NaN  1000.0\n",
       "30  31       rentals          0  single-family    10032           3139        3   2.0       NaN  1500.0\n",
       "31  32       rentals          1       colonial    10033            906        3   2.0       NaN  2000.0\n",
       "32  33       rentals          2      victorian    10034           2983        3   2.0       NaN  2100.0\n",
       "33  34       rentals          3      victorian    10035           1054        3   2.0       NaN  2200.0\n",
       "34  35       rentals          4      classical    10036           2730        3   2.0       NaN  2300.0\n",
       "35  36       rentals          0      victorian    10037           3324        3   2.0       NaN  2000.0\n",
       "36  37       rentals          1   multi-family    10038           2588        3   2.0       NaN  2250.0\n",
       "37  38       rentals          2   multi-family    10039           1521        3   2.0       NaN  2250.0\n",
       "38  39       rentals          3   multi-family    10040           3380        3   2.0       NaN  2500.0\n",
       "39  40       rentals          4      victorian    10041           1205        3   2.0       NaN  3000.0\n",
       "40  41       rentals          0         gothic    10043           3990        3   2.0       NaN  2500.0\n",
       "41  42       rentals          1      victorian    10044           2565        3   2.0       NaN  3000.0\n",
       "42  43       rentals          2     queen anne    10045           4145        3   2.0       NaN  3000.0\n",
       "43  44       rentals          3   contemporary    10046           4045        3   2.0       NaN  2000.0\n",
       "44  45       rentals          4      victorian    10055           3312        3   2.0       NaN  2000.0\n",
       "45  46       rentals          0      victorian    10060           2465        3   2.0       NaN  2000.0\n",
       "46  47       rentals          1      victorian    10060           2534        3   2.0       NaN  2000.0\n",
       "47  48       rentals          2      victorian    10069           3316        3   2.0       NaN  2500.0\n",
       "48  49       rentals          3      victorian    10072           4436        3   2.0       NaN  2500.0\n",
       "49  50       rentals          4   transitional    10072           2523        3   2.0       NaN  1800.0"
      ]
     },
     "metadata": {},
     "output_type": "display_data"
    }
   ],
   "source": [
    "display(my_dataframe)"
   ]
  },
  {
   "cell_type": "markdown",
   "metadata": {},
   "source": [
    "<b><font color=\"blue\", size = 4>b)</font></b> Print all multi-family houses larger than 3,000 square foot"
   ]
  },
  {
   "cell_type": "markdown",
   "metadata": {},
   "source": [
    "<span style=\"background-color: #FFFF00\">Your answer here</span>"
   ]
  },
  {
   "cell_type": "code",
   "execution_count": 4,
   "metadata": {},
   "outputs": [
    {
     "data": {
      "text/plain": [
       "    id property_type  condition property_style  zipcode  property_size  bedroom  bath     price   lease\n",
       "16  17         sales          1   multi-family    10018           3146        3   2.5  425000.0     NaN\n",
       "17  18         sales          2   multi-family    10019           3425        3   2.5  450000.0     NaN\n",
       "38  39       rentals          3   multi-family    10040           3380        3   2.0       NaN  2500.0"
      ]
     },
     "execution_count": 4,
     "metadata": {},
     "output_type": "execute_result"
    }
   ],
   "source": [
    "my_dataframe[(my_dataframe[\"property_style\"] == \"multi-family\") & (my_dataframe[\"property_size\"]>3000)]"
   ]
  },
  {
   "cell_type": "markdown",
   "metadata": {},
   "source": [
    "<b><font color=\"blue\", size = 4>c)</font></b> Print all Victoraian houses for lease"
   ]
  },
  {
   "cell_type": "markdown",
   "metadata": {},
   "source": [
    "<span style=\"background-color: #FFFF00\">Your answer here</span>"
   ]
  },
  {
   "cell_type": "code",
   "execution_count": 5,
   "metadata": {},
   "outputs": [
    {
     "data": {
      "text/plain": [
       "    id property_type  condition property_style  zipcode  property_size  bedroom  bath  price   lease\n",
       "32  33       rentals          2      victorian    10034           2983        3   2.0    NaN  2100.0\n",
       "33  34       rentals          3      victorian    10035           1054        3   2.0    NaN  2200.0\n",
       "35  36       rentals          0      victorian    10037           3324        3   2.0    NaN  2000.0\n",
       "39  40       rentals          4      victorian    10041           1205        3   2.0    NaN  3000.0\n",
       "41  42       rentals          1      victorian    10044           2565        3   2.0    NaN  3000.0\n",
       "44  45       rentals          4      victorian    10055           3312        3   2.0    NaN  2000.0\n",
       "45  46       rentals          0      victorian    10060           2465        3   2.0    NaN  2000.0\n",
       "46  47       rentals          1      victorian    10060           2534        3   2.0    NaN  2000.0\n",
       "47  48       rentals          2      victorian    10069           3316        3   2.0    NaN  2500.0\n",
       "48  49       rentals          3      victorian    10072           4436        3   2.0    NaN  2500.0"
      ]
     },
     "execution_count": 5,
     "metadata": {},
     "output_type": "execute_result"
    }
   ],
   "source": [
    "my_dataframe[(my_dataframe[\"property_style\"] == \"victorian\") & (my_dataframe[\"property_type\"]== \"rentals\")]"
   ]
  },
  {
   "cell_type": "markdown",
   "metadata": {},
   "source": [
    "<b><font color=\"blue\", size = 4>d)</font> Segmentation of your own:</b> Create a segmentation of the data that prints 4 columns and not more than 8 rows using at least 3 columns for the condition"
   ]
  },
  {
   "cell_type": "markdown",
   "metadata": {},
   "source": [
    "<span style=\"background-color: #FFFF00\">Your answer here</span>"
   ]
  },
  {
   "cell_type": "code",
   "execution_count": 6,
   "metadata": {},
   "outputs": [
    {
     "data": {
      "text/plain": [
       "   property_type property_style  property_size  bedroom\n",
       "0          sales   multi-family           1343        1\n",
       "24         sales      victorian           1930        4\n",
       "25       rentals   multi-family           1416        1\n",
       "33       rentals      victorian           1054        3\n",
       "39       rentals      victorian           1205        3\n",
       "41       rentals      victorian           2565        3\n",
       "45       rentals      victorian           2465        3\n",
       "46       rentals      victorian           2534        3"
      ]
     },
     "execution_count": 6,
     "metadata": {},
     "output_type": "execute_result"
    }
   ],
   "source": [
    "my_dataframe[[\"property_type\", \"property_style\", \"property_size\", \"bedroom\"]][(my_dataframe.property_style==\"victorian\")& \n",
    "                                                    (my_dataframe.property_size < 2900)|\n",
    "                                                    (my_dataframe.property_style == \"multi-family\")&\n",
    "                                                    (my_dataframe.bedroom == 1)]"
   ]
  },
  {
   "cell_type": "markdown",
   "metadata": {},
   "source": [
    "<b><font color=\"blue\", size = 4>e)</font></b> Create a plot of your choice"
   ]
  },
  {
   "cell_type": "markdown",
   "metadata": {},
   "source": [
    "<span style=\"background-color: #FFFF00\">Your answer here</span>"
   ]
  },
  {
   "cell_type": "code",
   "execution_count": 7,
   "metadata": {
    "scrolled": true
   },
   "outputs": [
    {
     "data": {
      "text/plain": [
       "<matplotlib.axes._subplots.AxesSubplot at 0x10d3c9e80>"
      ]
     },
     "execution_count": 7,
     "metadata": {},
     "output_type": "execute_result"
    },
    {
     "data": {
      "image/png": "[encoded data removed]",
      "text/plain": [
       "<Figure size 432x288 with 1 Axes>"
      ]
     },
     "metadata": {},
     "output_type": "display_data"
    }
   ],
   "source": [
    "my_dataframe.property_size.plot(kind=\"hist\")"
   ]
  },
  {
   "cell_type": "markdown",
   "metadata": {},
   "source": [
    "<blockquote style=\"border: 2px solid #666; padding: 10px; background-color: #99e6ff\"><b> Question 2 :</b> pandas Conditionals\n",
    "<div class=\"pull-right\">\n",
    "Practice for HW question 2\n",
    "</div>\n",
    "</blockquote>"
   ]
  },
  {
   "cell_type": "markdown",
   "metadata": {},
   "source": [
    "<b><font color=\"blue\", size = 4>a)</font> Comparing</b>: Create code that compares if there are more houses for rent or for sale"
   ]
  },
  {
   "cell_type": "markdown",
   "metadata": {},
   "source": [
    "<span style=\"background-color: #FFFF00\">Your answer here</span>"
   ]
  },
  {
   "cell_type": "code",
   "execution_count": 8,
   "metadata": {},
   "outputs": [
    {
     "name": "stdout",
     "output_type": "stream",
     "text": [
      "Both house for sales and renat are equal\n"
     ]
    }
   ],
   "source": [
    "sales_df = my_dataframe[my_dataframe.property_type == \"Sales\"]\n",
    "rentals_df = my_dataframe[my_dataframe.property_type == \"Rentals\"]\n",
    "TotalSales = sales_df.shape[0]\n",
    "TotalRentals = rentals_df.shape[0]\n",
    "if (TotalSales < TotalRentals):\n",
    "    print(\"There are more houses for sale than for rent\")\n",
    "elif (TotalSales == TotalRentals):\n",
    "    print(\"Both house for sales and renat are equal\")\n",
    "else:\n",
    "    print(\"There are more houses for rent than for sale\")\n",
    "\n"
   ]
  },
  {
   "cell_type": "markdown",
   "metadata": {},
   "source": [
    "<b><font color=\"blue\", size = 4>b)</font> Colonial Houses</b>: A development company wants to analyze status of all colonial houses. If the maximum price of the colonial houses is more than \\$550,000, the company will spend resources on their restoration. Write a code printing if the company should dedicate these resources or not."
   ]
  },
  {
   "cell_type": "markdown",
   "metadata": {},
   "source": [
    "<span style=\"background-color: #FFFF00\">Your answer here</span>"
   ]
  },
  {
   "cell_type": "code",
   "execution_count": 9,
   "metadata": {},
   "outputs": [
    {
     "name": "stdout",
     "output_type": "stream",
     "text": [
      "Company will spend resources\n"
     ]
    }
   ],
   "source": [
    "colonial_df = my_dataframe[my_dataframe.property_style == \"colonial\"]\n",
    "max(colonial_df.price)\n",
    "if (max(colonial_df.price) > 550000):\n",
    "    print(\"Company will spend resources\")\n",
    "elif (colonial_df == 550000):\n",
    "    print(\"?\")\n",
    "else:\n",
    "    print(\"Company will not spend resources\")\n",
    "\n"
   ]
  },
  {
   "cell_type": "markdown",
   "metadata": {},
   "source": [
    "<b><font color=\"blue\", size = 4>c)</font> Your own condition</b>: Write a condition of your own using 2 or 3 columns. Explain your results."
   ]
  },
  {
   "cell_type": "markdown",
   "metadata": {},
   "source": [
    "<span style=\"background-color: #FFFF00\">Your answer here</span>"
   ]
  },
  {
   "cell_type": "code",
   "execution_count": 10,
   "metadata": {},
   "outputs": [
    {
     "name": "stdout",
     "output_type": "stream",
     "text": [
      "25\n"
     ]
    }
   ],
   "source": [
    "quantity_price_greater_100000 = my_dataframe[my_dataframe.price > 100000].shape[0]\n",
    "print(quantity_price_greater_100000)"
   ]
  },
  {
   "cell_type": "code",
   "execution_count": 11,
   "metadata": {},
   "outputs": [
    {
     "name": "stdout",
     "output_type": "stream",
     "text": [
      "10\n"
     ]
    }
   ],
   "source": [
    "quantity_my_dataframe_greater_200000 = my_dataframe[my_dataframe.price > 200000].shape[1]\n",
    "print(quantity_my_dataframe_greater_200000)"
   ]
  },
  {
   "cell_type": "code",
   "execution_count": 12,
   "metadata": {},
   "outputs": [],
   "source": [
    "if (quantity_price_greater_100000 > 50):\n",
    "    print(\"We have more than 50 houses more expensive than $100000\")\n",
    "if (quantity_my_dataframe_greater_200000 > 20):\n",
    "    print(\"We have more than 20 houses with sales greater than $200000\")\n",
    "\n"
   ]
  },
  {
   "cell_type": "markdown",
   "metadata": {},
   "source": [
    "<blockquote style=\"border: 2px solid #666; padding: 10px; background-color: #99e6ff\"><b> Question 3:</b> Understanding Conditionals\n",
    "<div class=\"pull-right\">\n",
    "Practice for HW question 3\n",
    "</div>\n",
    "</blockquote>"
   ]
  },
  {
   "cell_type": "markdown",
   "metadata": {},
   "source": [
    "<b><font color=\"blue\", size = 4>a)</font> \n",
    "Understanding Python</b>: Why does this code print the wrong arrival\n",
    "times for my cruise?\n",
    "\n",
    "Write the code that corrects this."
   ]
  },
  {
   "cell_type": "code",
   "execution_count": 13,
   "metadata": {},
   "outputs": [
    {
     "name": "stdout",
     "output_type": "stream",
     "text": [
      "First stop Port 1 time: 7:45pm\n",
      "Second stop Port 2 time: 7:45pm\n",
      "Third stop Port 3 time: 7:45pm\n"
     ]
    }
   ],
   "source": [
    "cruise_first_stop = \"Port 1\"\n",
    "time = \"9:00am\"\n",
    "cruise_second_stop = \"Port 2\"\n",
    "time = \"1:30am\"\n",
    "cruise_last_stop = \"Port 3\"\n",
    "time = \"7:45pm\"\n",
    "\n",
    "\n",
    "print (\"First stop\", cruise_first_stop, \"time:\", time)\n",
    "print (\"Second stop\", cruise_second_stop, \"time:\", time)\n",
    "print (\"Third stop\", cruise_last_stop, \"time:\", time)\n",
    "\n"
   ]
  },
  {
   "cell_type": "markdown",
   "metadata": {},
   "source": [
    "<span style=\"background-color: #FFFF00\">Your answer here</span>"
   ]
  },
  {
   "cell_type": "markdown",
   "metadata": {
    "collapsed": true
   },
   "source": [
    "Because the variable \"time\" was assigned to multiple strings. It has to be its own variable for each time. If not the last input that you have for the variable \"time\" will be printed out.\n"
   ]
  },
  {
   "cell_type": "markdown",
   "metadata": {},
   "source": [
    "<span style=\"background-color: #FFFF00\">Your possible solution here</span>"
   ]
  },
  {
   "cell_type": "code",
   "execution_count": 14,
   "metadata": {},
   "outputs": [
    {
     "name": "stdout",
     "output_type": "stream",
     "text": [
      "First stop Port 1 time: 9:00am\n",
      "Second stop Port 2 time: 1:30am\n",
      "Third stop Port 3 time: 7:45pm\n"
     ]
    }
   ],
   "source": [
    "ruise_first_stop = \"Port 1\"\n",
    "time1 = \"9:00am\"\n",
    "cruise_second_stop = \"Port 2\"\n",
    "time2 = \"1:30am\"\n",
    "cruise_last_stop = \"Port 3\"\n",
    "time3 = \"7:45pm\"\n",
    "\n",
    "print (\"First stop\", cruise_first_stop, \"time:\", time1)\n",
    "print (\"Second stop\",cruise_second_stop, \"time:\", time2)\n",
    "print (\"Third stop\", cruise_last_stop, \"time:\", time3)\n",
    "\n"
   ]
  },
  {
   "cell_type": "markdown",
   "metadata": {},
   "source": [
    "<b><font color=\"blue\", size = 4>b)</font> \n",
    "Understanding Conditionals</b>: Per our compay policy, we don't hire employees with criminal record.\n",
    "\n",
    "The data looks like this:"
   ]
  },
  {
   "cell_type": "code",
   "execution_count": 15,
   "metadata": {},
   "outputs": [],
   "source": [
    "has_necessary_skills = True\n",
    "has_good_references = True\n",
    "has_criminal_record = True"
   ]
  },
  {
   "cell_type": "markdown",
   "metadata": {},
   "source": [
    "Why does the code below not work properly and recommends to hire this \n",
    "person, even though he has a criminal record?"
   ]
  },
  {
   "cell_type": "code",
   "execution_count": 16,
   "metadata": {},
   "outputs": [
    {
     "name": "stdout",
     "output_type": "stream",
     "text": [
      "Let's hire this person\n"
     ]
    }
   ],
   "source": [
    "if has_necessary_skills:\n",
    "    if has_good_references:\n",
    "        print (\"Let's hire this person\")\n",
    "    if not has_criminal_record:\n",
    "        print (\"Let's hire this person\")"
   ]
  },
  {
   "cell_type": "markdown",
   "metadata": {},
   "source": [
    "<span style=\"background-color: #FFFF00\">Your answer here</span>"
   ]
  },
  {
   "cell_type": "markdown",
   "metadata": {
    "collapsed": true
   },
   "source": [
    "There is no else statement in this conditional."
   ]
  },
  {
   "cell_type": "markdown",
   "metadata": {},
   "source": [
    "<span style=\"background-color: #FFFF00\">Your possible solution here</span>"
   ]
  },
  {
   "cell_type": "code",
   "execution_count": 17,
   "metadata": {},
   "outputs": [
    {
     "name": "stdout",
     "output_type": "stream",
     "text": [
      "Do not hire this person\n"
     ]
    }
   ],
   "source": [
    "if has_necessary_skills:\n",
    "    if has_good_references:\n",
    "        if has_criminal_record:\n",
    "            print (\"Do not hire this person\")\n",
    "        else:\n",
    "            print(\"Hire\")\n",
    "    else:\n",
    "        print(\"Do not hire this person\")\n",
    "else: \n",
    "    print(\"Do not hire this person \")"
   ]
  },
  {
   "cell_type": "code",
   "execution_count": null,
   "metadata": {},
   "outputs": [],
   "source": []
  }
 ],
 "metadata": {
  "kernelspec": {
   "display_name": "Python 3",
   "language": "python",
   "name": "python3"
  },
  "language_info": {
   "codemirror_mode": {
    "name": "ipython",
    "version": 3
   },
   "file_extension": ".py",
   "mimetype": "text/x-python",
   "name": "python",
   "nbconvert_exporter": "python",
   "pygments_lexer": "ipython3",
   "version": "3.6.5"
  }
 },
 "nbformat": 4,
 "nbformat_minor": 2
}
