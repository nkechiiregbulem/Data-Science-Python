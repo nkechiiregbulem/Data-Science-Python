{
 "cells": [
  {
   "cell_type": "markdown",
   "metadata": {
    "collapsed": true
   },
   "source": [
    "<p class=\"pull-left\">\n",
    "COMP 061 - Programming for Data Science\n",
    "</p>\n",
    "<div class=\"pull-right\">\n",
    "<ul class=\"list-inline\">\n",
    "Copyright © Dana Nehoran 2017\n",
    "</ul>\n",
    "</div>"
   ]
  },
  {
   "cell_type": "markdown",
   "metadata": {},
   "source": [
    "<div style=\"background-color: #FFF8C6; border:1px solid #000; margin-left: 2px; margin-right: 2px; \n",
    "\n",
    "padding-bottom: 2px; padding-left: 2px; padding-right: 1px; padding-top: 10px;\">\n",
    "<center><b><font size=\"6\">Homework Week 4</font></b></center>\n",
    "</div>"
   ]
  },
  {
   "cell_type": "code",
   "execution_count": 1,
   "metadata": {},
   "outputs": [],
   "source": [
    "# Preparation for pandas and NumPy\n",
    "import numpy as np\n",
    "import pandas as pd\n",
    "from pandas import DataFrame, Series\n",
    "\n",
    "# Set some pandas options\n",
    "pd.set_option('display.notebook_repr_html', False)\n",
    "pd.set_option('display.max_rows', 60)\n",
    "pd.set_option('display.max_columns', 60)\n",
    "pd.set_option('display.width', 1000)\n",
    "\n",
    "# Preparation for matplotlib\n",
    "%matplotlib inline "
   ]
  },
  {
   "cell_type": "code",
   "execution_count": 2,
   "metadata": {},
   "outputs": [],
   "source": [
    "class color:\n",
    "   PURPLE = '\\033[95m'\n",
    "   CYAN = '\\033[96m'\n",
    "   DARKCYAN = '\\033[36m'\n",
    "   BLUE = '\\033[94m'\n",
    "   GREEN = '\\033[92m'\n",
    "   YELLOW = '\\033[93m'\n",
    "   RED = '\\033[91m'\n",
    "   BOLD = '\\033[1m'\n",
    "   UNDERLINE = '\\033[4m'\n",
    "   END = '\\033[0m'"
   ]
  },
  {
   "cell_type": "markdown",
   "metadata": {},
   "source": [
    "Datasets: \n",
    "- `Rio 2016 US Olympic Team.xlsx`\n",
    "- `Rio 2016 Olympic Athletes.xlsx`"
   ]
  },
  {
   "cell_type": "markdown",
   "metadata": {},
   "source": [
    "<blockquote style=\"border: 2px solid #666; padding: 10px; background-color: #ccc;\"><b>Question 1:</b> \n",
    "Data Exploration</blockquote>"
   ]
  },
  {
   "cell_type": "markdown",
   "metadata": {},
   "source": [
    "<b><font color=\"blue\", size = 4>a)</font></b> Explore your data from both datasets in 10 steps and draw some conclusions on US athletes regarding the number of medals won. You can compare any field you like (e.g. gender, sports, colleges, majors, age range)\n",
    "\n",
    "HINT: For this homework, it is a good idea to create a variable `total_medals`, so it is available when you need it"
   ]
  },
  {
   "cell_type": "markdown",
   "metadata": {},
   "source": [
    "<span style=\"background-color: #FFFF00\">Your answer here</span>"
   ]
  },
  {
   "cell_type": "code",
   "execution_count": 3,
   "metadata": {},
   "outputs": [
    {
     "data": {
      "text/plain": [
       "(555, 23)"
      ]
     },
     "execution_count": 3,
     "metadata": {},
     "output_type": "execute_result"
    }
   ],
   "source": [
    "total_medals = pd.read_excel('Rio 2016 US Olympic Team.xlsx')\n",
    "total_medals.shape"
   ]
  },
  {
   "cell_type": "code",
   "execution_count": 4,
   "metadata": {},
   "outputs": [
    {
     "data": {
      "text/plain": [
       "(11538, 14)"
      ]
     },
     "execution_count": 4,
     "metadata": {},
     "output_type": "execute_result"
    }
   ],
   "source": [
    "athletes = pd.read_excel('Rio 2016 Olympic Athletes.xlsx')\n",
    "athletes.shape"
   ]
  },
  {
   "cell_type": "markdown",
   "metadata": {},
   "source": [
    "There are 11538 Athletes with 14 fields"
   ]
  },
  {
   "cell_type": "code",
   "execution_count": 5,
   "metadata": {},
   "outputs": [
    {
     "data": {
      "text/plain": [
       "Index(['id', 'name', 'first', 'last', 'nationality', 'gender', 'dob', 'age', 'height', 'weight', 'sport', 'gold', 'silver', 'bronze'], dtype='object')"
      ]
     },
     "execution_count": 5,
     "metadata": {},
     "output_type": "execute_result"
    }
   ],
   "source": [
    "athletes.columns"
   ]
  },
  {
   "cell_type": "code",
   "execution_count": 6,
   "metadata": {},
   "outputs": [
    {
     "data": {
      "text/plain": [
       "array(['athletics', 'fencing', 'taekwondo', 'cycling', 'triathlon',\n",
       "       'volleyball', 'aquatics', 'rugby sevens', 'wrestling', 'football',\n",
       "       'shooting', 'boxing', 'equestrian', 'rowing', 'judo', 'handball',\n",
       "       'badminton', 'hockey', 'modern pentathlon', 'table tennis',\n",
       "       'canoe', 'basketball', 'golf', 'archery', 'weightlifting',\n",
       "       'sailing', 'tennis', 'gymnastics'], dtype=object)"
      ]
     },
     "execution_count": 6,
     "metadata": {},
     "output_type": "execute_result"
    }
   ],
   "source": [
    "athletes.sport.unique()"
   ]
  },
  {
   "cell_type": "code",
   "execution_count": 7,
   "metadata": {},
   "outputs": [
    {
     "data": {
      "text/plain": [
       "(28,)"
      ]
     },
     "execution_count": 7,
     "metadata": {},
     "output_type": "execute_result"
    }
   ],
   "source": [
    "athletes.sport.unique().shape"
   ]
  },
  {
   "cell_type": "markdown",
   "metadata": {},
   "source": [
    "There are 28 sports being played in the 2016 Rio Olympic Games"
   ]
  },
  {
   "cell_type": "code",
   "execution_count": 8,
   "metadata": {},
   "outputs": [
    {
     "data": {
      "text/plain": [
       "array(['ESP', 'KOR', 'CAN', 'MDA', 'NZL', 'AUS', 'USA', 'ETH', 'BRN',\n",
       "       'IOA', 'GBR', 'UZB', 'RSA', 'EGY', 'MAR', 'QAT', 'SUD', 'ALG',\n",
       "       'DEN', 'NED', 'DJI', 'SEN', 'CMR', 'ITA', 'NIG', 'SWE', 'GHA',\n",
       "       'AFG', 'AZE', 'KSA', 'BAN', 'NGR', 'RUS', 'IND', 'HUN', 'KAZ',\n",
       "       'BDI', 'ERI', 'POL', 'BRA', 'GEO', 'CZE', 'SEY', 'GAM', 'LTU',\n",
       "       'IRI', 'ROU', 'CUB', 'SLO', 'BAH', 'ARG', 'PUR', 'FRA', 'RWA',\n",
       "       'TOG', 'MDV', 'TUN', 'ISR', 'LAT', 'JOR', 'MAS', 'LIB', 'LBA',\n",
       "       'PLE', 'IRQ', 'TUR', 'VEN', 'JPN', 'TPE', 'KGZ', 'CHN', 'MEX',\n",
       "       'GRE', 'IRL', 'JAM', 'SUI', 'BAR', 'HON', 'ANG', 'GER', 'COL',\n",
       "       'URU', 'MNE', 'SRB', 'BUL', 'FIN', 'UKR', 'BLR', 'SMR', 'COK',\n",
       "       'SAM', 'AUT', 'BEL', 'KEN', 'SVK', 'POR', 'ECU', 'UAE', 'NAM',\n",
       "       'GUY', 'EST', 'SKN', 'ARU', 'PAN', 'PER', 'TAN', 'FIJ', 'GUI',\n",
       "       'NOR', 'ARM', 'THA', 'SIN', 'TKM', 'CRO', 'BIH', 'TGA', 'MAW',\n",
       "       'DOM', 'GUA', 'MKD', 'TJK', 'CYP', 'CHI', 'MLT', 'ZIM', 'TTO',\n",
       "       'CRC', 'BOL', 'BUR', 'ISL', 'HAI', 'ROT', 'MGL', 'MAD', 'GAB',\n",
       "       'SRI', 'LAO', 'MRI', 'PAR', 'IVB', 'GBS', 'TLS', 'MLI', 'SYR',\n",
       "       'BOT', 'CHA', 'OMA', 'COD', 'CIV', 'GEQ', 'UGA', 'GUM', 'ASA',\n",
       "       'ZAM', 'VAN', 'GRN', 'BIZ', 'VIN', 'MON', 'ALB', 'STP', 'SLE',\n",
       "       'BER', 'HKG', 'ISV', 'CGO', 'ANT', 'BEN', 'LUX', 'PHI', 'CAF',\n",
       "       'PRK', 'LIE', 'MHL', 'NCA', 'KIR', 'CPV', 'INA', 'FSM', 'COM',\n",
       "       'PLW', 'MYA', 'NRU', 'LBR', 'ESA', 'AND', 'TUV', 'SUR', 'CAY',\n",
       "       'NEP', 'PAK', 'SSD', 'MTN', 'VIE', 'MOZ', 'LES', 'LCA', 'BRU',\n",
       "       'SOL', 'BHU', 'CAM', 'KOS', 'SOM', 'PNG', 'YEM', 'SWZ', 'DMA'],\n",
       "      dtype=object)"
      ]
     },
     "execution_count": 8,
     "metadata": {},
     "output_type": "execute_result"
    }
   ],
   "source": [
    "athletes.nationality.unique()"
   ]
  },
  {
   "cell_type": "code",
   "execution_count": 9,
   "metadata": {},
   "outputs": [
    {
     "data": {
      "text/plain": [
       "(207,)"
      ]
     },
     "execution_count": 9,
     "metadata": {},
     "output_type": "execute_result"
    }
   ],
   "source": [
    "athletes.nationality.unique().shape"
   ]
  },
  {
   "cell_type": "markdown",
   "metadata": {},
   "source": [
    "There are 207 countries/nationalities participating in the 2016 Rio Olympic Games"
   ]
  },
  {
   "cell_type": "code",
   "execution_count": 10,
   "metadata": {},
   "outputs": [
    {
     "data": {
      "text/plain": [
       "           first         last  age       sport\n",
       "42          Abdi         Ulad   27   athletics\n",
       "151       Agnete   Thinggaard   35  equestrian\n",
       "531        Allan   Norregaard   37     sailing\n",
       "576       Amalie   Dideriksen   22     cycling\n",
       "578       Amalie      Thomsen   24       canoe\n",
       "725       Anders         Dahl   42  equestrian\n",
       "726       Anders      Nielsen   27    aquatics\n",
       "777      Andreas         Bube   31   athletics\n",
       "782      Andreas        Maxso   24    football\n",
       "785      Andreas    Schilling   27   triathlon\n",
       "874       Anette       Viborg   28     sailing\n",
       "933         Anna       Moller   21   athletics\n",
       "946         Anna     Kasprzak   29  equestrian\n",
       "979         Anne     Andersen   26      rowing\n",
       "983         Anne   Baumeister   31   athletics\n",
       "984         Anne      Thomsen   35      rowing\n",
       "989         Anne       Rindom   27     sailing\n",
       "1003      Annika      Langvad   34     cycling\n",
       "1043       Anton        Ipsen   24    aquatics\n",
       "1183       Asger     Sorensen   22    football\n",
       "1339     Barrett      Laursen   24    football\n",
       "1506    Blabjerg    Mathiasen   23    football\n",
       "1811    Caroline    Wozniacki   28      tennis\n",
       "1814     Carsten     Mogensen   35   badminton\n",
       "1820      Casper    Mortensen   29    handball\n",
       "1821      Casper      Nielsen   24    football\n",
       "1822      Casper     Pedersen   22     cycling\n",
       "1823      Casper      Folsach   25     cycling\n",
       "1841    Cathrine       Dufour   26  equestrian\n",
       "2013       Chris     Sorensen   34     cycling\n",
       "...          ...          ...  ...         ...\n",
       "8101      Niklas     Jacobsen   30    handball\n",
       "8102      Niklas       Larsen   21     cycling\n",
       "8103      Niklas     Laustsen   26     cycling\n",
       "8140        Nina    Hollensen   26      rowing\n",
       "8231         Ole  Hesselbjerg   28   athletics\n",
       "8415         Pal      Joensen   28    aquatics\n",
       "8448      Pascal       Gregor   24    football\n",
       "8596    Pernille        Blume   24    aquatics\n",
       "8892      Rasmus       Quaade   28     cycling\n",
       "8894      Rasmus        Quist   38      rowing\n",
       "8967        Rene       Holten   30       canoe\n",
       "8972        Rene       Hansen   34    handball\n",
       "9047       Rikke     Pedersen   29    aquatics\n",
       "9094      Robert         Skov   22    football\n",
       "9520        Sara     Petersen   31   athletics\n",
       "9528       Sarah          Bro   22    aquatics\n",
       "9609   Sebastian    Fleischer   25     sailing\n",
       "9870       Simon   Andreassen   21     cycling\n",
       "9897      Simone  Christensen   24     cycling\n",
       "9997       Soren         Dahl   25    aquatics\n",
       "9998       Soren     Kjeldsen   43        golf\n",
       "10129      Stina       Troest   24   athletics\n",
       "10131      Stine      Nielsen   27    shooting\n",
       "10444     Thomas   Hagelskjar   23    football\n",
       "10459  Thorbjorn       Olesen   29        golf\n",
       "10609     Torben      Grimmel   43    shooting\n",
       "10833      Vigen  Christensen   24    football\n",
       "10838     Viktor      Axelsen   24   badminton\n",
       "10839     Viktor       Bromer   25    aquatics\n",
       "11397     Yurary      Poulsen   24    football\n",
       "\n",
       "[128 rows x 4 columns]"
      ]
     },
     "execution_count": 10,
     "metadata": {},
     "output_type": "execute_result"
    }
   ],
   "source": [
    "DEN_athletes = athletes[athletes.nationality == 'DEN']\n",
    "DEN_athletes[[\"first\", \"last\", \"age\", \"sport\"]]"
   ]
  },
  {
   "cell_type": "markdown",
   "metadata": {},
   "source": [
    "There are 128 Athletes from Denmark participating in the 2016 Rio Olympic Games."
   ]
  },
  {
   "cell_type": "code",
   "execution_count": 11,
   "metadata": {},
   "outputs": [
    {
     "data": {
      "text/plain": [
       "nationality\n",
       "USA    567\n",
       "BRA    485\n",
       "GER    441\n",
       "AUS    431\n",
       "FRA    410\n",
       "CHN    404\n",
       "GBR    374\n",
       "JPN    346\n",
       "CAN    321\n",
       "ESP    313\n",
       "ITA    312\n",
       "RUS    286\n",
       "NED    249\n",
       "POL    242\n",
       "ARG    223\n",
       "KOR    213\n",
       "NZL    208\n",
       "UKR    205\n",
       "SWE    164\n",
       "HUN    154\n",
       "dtype: int64"
      ]
     },
     "execution_count": 11,
     "metadata": {},
     "output_type": "execute_result"
    }
   ],
   "source": [
    "athletes.groupby(athletes.nationality).size().sort_values(ascending = False)[0:20]"
   ]
  },
  {
   "cell_type": "markdown",
   "metadata": {},
   "source": [
    "Hungary & Sweden have the least participating athletes in the 2016 Rio Olympic Games"
   ]
  },
  {
   "cell_type": "code",
   "execution_count": 12,
   "metadata": {},
   "outputs": [
    {
     "data": {
      "text/plain": [
       "age  sport            \n",
       "16   aquatics               8\n",
       "17   aquatics               6\n",
       "     table tennis           1\n",
       "18   aquatics              23\n",
       "     athletics              3\n",
       "     fencing                1\n",
       "     football               1\n",
       "     gymnastics            11\n",
       "     shooting               1\n",
       "     table tennis           4\n",
       "     weightlifting          1\n",
       "19   aquatics              38\n",
       "     archery                2\n",
       "     athletics              8\n",
       "     fencing                1\n",
       "     football               2\n",
       "     gymnastics            21\n",
       "     modern pentathlon      1\n",
       "     sailing                2\n",
       "     shooting               4\n",
       "     taekwondo              1\n",
       "     weightlifting          2\n",
       "20   aquatics              52\n",
       "     archery                4\n",
       "     athletics             24\n",
       "     boxing                 2\n",
       "     canoe                  2\n",
       "     cycling                1\n",
       "     equestrian             1\n",
       "     fencing                1\n",
       "                         ... \n",
       "23   weightlifting         17\n",
       "     wrestling             13\n",
       "24   aquatics             147\n",
       "     archery               12\n",
       "     athletics            181\n",
       "     badminton             13\n",
       "     basketball            12\n",
       "     boxing                18\n",
       "     canoe                 16\n",
       "     cycling               37\n",
       "     equestrian             2\n",
       "     fencing               12\n",
       "     football             104\n",
       "     golf                   5\n",
       "     gymnastics            31\n",
       "     handball              16\n",
       "     hockey                34\n",
       "     judo                  28\n",
       "     modern pentathlon      1\n",
       "     rowing                28\n",
       "     rugby sevens          18\n",
       "     sailing               13\n",
       "     shooting              11\n",
       "     table tennis          15\n",
       "     taekwondo             11\n",
       "     tennis                12\n",
       "     triathlon              6\n",
       "     volleyball            16\n",
       "     weightlifting         18\n",
       "     wrestling             25\n",
       "Length: 152, dtype: int64"
      ]
     },
     "execution_count": 12,
     "metadata": {},
     "output_type": "execute_result"
    }
   ],
   "source": [
    "athletes[athletes.age < 25].groupby([\"age\", \"sport\"]).size()"
   ]
  },
  {
   "cell_type": "markdown",
   "metadata": {},
   "source": [
    "The youngest athletes is 16 playing the sport aquatics."
   ]
  },
  {
   "cell_type": "code",
   "execution_count": 13,
   "metadata": {},
   "outputs": [
    {
     "data": {
      "text/plain": [
       "age  sport        \n",
       "118  sailing            1\n",
       "42   badminton          1\n",
       "     canoe              1\n",
       "     fencing            1\n",
       "     golf               1\n",
       "     handball           1\n",
       "     tennis             1\n",
       "43   aquatics           1\n",
       "     cycling            1\n",
       "     football           1\n",
       "     gymnastics         1\n",
       "     rowing             1\n",
       "23   triathlon          1\n",
       "43   weightlifting      1\n",
       "44   fencing            1\n",
       "     rowing             1\n",
       "     table tennis       1\n",
       "23   equestrian         1\n",
       "45   sailing            1\n",
       "     tennis             1\n",
       "46   archery            1\n",
       "22   triathlon          1\n",
       "46   handball           1\n",
       "     rowing             1\n",
       "     sailing            1\n",
       "     tennis             1\n",
       "47   cycling            1\n",
       "     golf               1\n",
       "     sailing            1\n",
       "48   golf               1\n",
       "                     ... \n",
       "36   athletics         60\n",
       "28   rowing            60\n",
       "31   aquatics          63\n",
       "35   athletics         64\n",
       "23   football          72\n",
       "30   aquatics          72\n",
       "29   aquatics          77\n",
       "34   athletics         91\n",
       "22   athletics         95\n",
       "21   aquatics          96\n",
       "24   football         104\n",
       "28   aquatics         105\n",
       "23   athletics        108\n",
       "33   athletics        111\n",
       "27   aquatics         111\n",
       "26   aquatics         113\n",
       "22   aquatics         118\n",
       "23   aquatics         126\n",
       "25   football         128\n",
       "32   athletics        133\n",
       "31   athletics        135\n",
       "25   aquatics         141\n",
       "24   aquatics         147\n",
       "30   athletics        177\n",
       "24   athletics        181\n",
       "29   athletics        183\n",
       "25   athletics        186\n",
       "26   athletics        195\n",
       "28   athletics        196\n",
       "27   athletics        199\n",
       "Length: 690, dtype: int64"
      ]
     },
     "execution_count": 13,
     "metadata": {},
     "output_type": "execute_result"
    }
   ],
   "source": [
    "athletes[athletes.age >16].groupby([\"age\", \"sport\"]).size().sort_values(ascending = True)"
   ]
  },
  {
   "cell_type": "markdown",
   "metadata": {},
   "source": [
    "The oldest is oddly 118 playing the sport \"sailing\"."
   ]
  },
  {
   "cell_type": "code",
   "execution_count": 14,
   "metadata": {},
   "outputs": [
    {
     "data": {
      "text/plain": [
       "nationality  sport     weight\n",
       "ALG          football  60.0      3\n",
       "                       62.0      1\n",
       "                       65.0      5\n",
       "                       68.0      1\n",
       "                       70.0      3\n",
       "                       72.0      1\n",
       "                       75.0      6\n",
       "                       79.0      1\n",
       "                       80.0      1\n",
       "ARG          football  65.0      1\n",
       "                       66.0      1\n",
       "                       69.0      1\n",
       "                       70.0      4\n",
       "                       71.0      2\n",
       "                       72.0      1\n",
       "                       73.0      1\n",
       "                       74.0      1\n",
       "                       75.0      1\n",
       "                       76.0      2\n",
       "                       77.0      1\n",
       "                       78.0      1\n",
       "                       79.0      1\n",
       "                       80.0      2\n",
       "                       82.0      1\n",
       "AUS          football  54.0      1\n",
       "                       55.0      2\n",
       "                       56.0      1\n",
       "                       58.0      2\n",
       "                       60.0      3\n",
       "                       61.0      1\n",
       "                                ..\n",
       "SWE          football  74.0      5\n",
       "                       75.0      2\n",
       "                       77.0      3\n",
       "                       78.0      3\n",
       "                       79.0      1\n",
       "                       80.0      3\n",
       "                       85.0      1\n",
       "                       88.0      1\n",
       "USA          football  54.0      4\n",
       "                       56.0      3\n",
       "                       59.0      4\n",
       "                       60.0      2\n",
       "                       61.0      4\n",
       "                       63.0      1\n",
       "                       64.0      1\n",
       "                       67.0      1\n",
       "                       74.0      1\n",
       "                       76.0      1\n",
       "ZIM          football  50.0      1\n",
       "                       53.0      6\n",
       "                       54.0      1\n",
       "                       56.0      1\n",
       "                       57.0      1\n",
       "                       59.0      4\n",
       "                       60.0      2\n",
       "                       61.0      2\n",
       "                       65.0      1\n",
       "                       68.0      1\n",
       "                       69.0      1\n",
       "                       70.0      1\n",
       "Length: 331, dtype: int64"
      ]
     },
     "execution_count": 14,
     "metadata": {},
     "output_type": "execute_result"
    }
   ],
   "source": [
    "tf = athletes[athletes.sport == \"football\"]\n",
    "tf.groupby([\"nationality\", \"sport\", \"weight\"]).size()"
   ]
  },
  {
   "cell_type": "code",
   "execution_count": 15,
   "metadata": {},
   "outputs": [],
   "source": [
    "Hockey_df = athletes[athletes.sport == \"Hockey\"]\n",
    "for row in Hockey_df.groupby([\"nationality\", \"sport\"]).size().iteritems():\n",
    "    print (row)"
   ]
  },
  {
   "cell_type": "code",
   "execution_count": 16,
   "metadata": {},
   "outputs": [],
   "source": [
    "for index, my_item in Hockey_df.iterrows():\n",
    "    print (\"\\n--------------------------------\")\n",
    "    print (color.RED + color.BOLD + \"Name: \" + color.END, my_item.last, \", \", my_item.first)\n",
    "    print (color.RED + color.BOLD + \"Position: \"+ color.END, my_item.weight)\n",
    "    print (color.RED + color.BOLD + \"Height (inches): \"+ color.END, my_item.height_in)\n",
    "    print (my_item.nationality)"
   ]
  },
  {
   "cell_type": "markdown",
   "metadata": {},
   "source": [
    "<blockquote style=\"border: 2px solid #666; padding: 10px; background-color: #ccc;\"><b>Question 2:</b> \n",
    "Plot</blockquote>"
   ]
  },
  {
   "cell_type": "markdown",
   "metadata": {},
   "source": [
    "<b><font color=\"blue\", size = 4>a)</font></b> Create a plot that depicts the performance of US athletes (regarding the number of medals won), you can try adding factors as age, gender, major, college, etc."
   ]
  },
  {
   "cell_type": "markdown",
   "metadata": {},
   "source": [
    "<span style=\"background-color: #FFFF00\">Your answer here</span>"
   ]
  },
  {
   "cell_type": "code",
   "execution_count": 17,
   "metadata": {},
   "outputs": [
    {
     "data": {
      "text/plain": [
       "Text(0,0.5,'Gender')"
      ]
     },
     "execution_count": 17,
     "metadata": {},
     "output_type": "execute_result"
    },
    {
     "data": {
      "image/png": "[encoded data removed]",
      "text/plain": [
       "<Figure size 1440x720 with 1 Axes>"
      ]
     },
     "metadata": {},
     "output_type": "display_data"
    }
   ],
   "source": [
    "my_plot = athletes.groupby([\"gender\"]).size().plot(kind=\"barh\", fontsize = 18, figsize = (20, 10))\n",
    "my_plot.set_title(\"Athletes per Gender\", fontsize = 40)\n",
    "my_plot.set_xlabel(\"Number of Athletes\", fontsize = 30, color = \"blue\")\n",
    "my_plot.set_ylabel(\"Gender\", fontsize = 30, color = \"red\")"
   ]
  },
  {
   "cell_type": "markdown",
   "metadata": {},
   "source": [
    "<blockquote style=\"border: 2px solid #666; padding: 10px; background-color: #ccc;\"><b>Question 3:</b> \n",
    "Search</blockquote>"
   ]
  },
  {
   "cell_type": "markdown",
   "metadata": {},
   "source": [
    "<b><font color=\"blue\", size = 4>a)</font></b> Create a menu that prints all available colleges, lets the user to select one college, and then prints the athletes in that college with the number of medals each won."
   ]
  },
  {
   "cell_type": "markdown",
   "metadata": {},
   "source": [
    "<span style=\"background-color: #FFFF00\">Your answer here</span>"
   ]
  },
  {
   "cell_type": "code",
   "execution_count": 18,
   "metadata": {},
   "outputs": [
    {
     "data": {
      "text/plain": [
       "(555, 23)"
      ]
     },
     "execution_count": 18,
     "metadata": {},
     "output_type": "execute_result"
    }
   ],
   "source": [
    "total_medals = pd.read_excel('Rio 2016 US Olympic Team.xlsx')\n",
    "total_medals.shape"
   ]
  },
  {
   "cell_type": "code",
   "execution_count": 19,
   "metadata": {},
   "outputs": [
    {
     "data": {
      "text/plain": [
       "Index(['ID', 'FIRST_NAME', 'LAST_NAME', 'GENDER', 'SPORT', 'EVENT_OR_POSITION', 'OLYMPIC_EXPERIENCE', 'HEIGHT', 'HEIGHT_in', 'WEIGHT', 'DOB', 'DOB_Month', 'DOB-Day', 'DOB_Year', 'Age_as_of_Aug_5', 'BIRTH_CITY', 'BIRTH_STATE', 'HOMETOWN_CITY', 'HOMETOWN_STATE', 'CURRENT_RESIDENCE', 'CURRENT_STATE', 'COLLEGE', 'MAJOR'], dtype='object')"
      ]
     },
     "execution_count": 19,
     "metadata": {},
     "output_type": "execute_result"
    }
   ],
   "source": [
    "total_medals.columns"
   ]
  },
  {
   "cell_type": "code",
   "execution_count": 20,
   "metadata": {},
   "outputs": [
    {
     "data": {
      "text/plain": [
       "array(['Penn State University', 'Dartmouth College', 'Duke University',\n",
       "       'University of Colorado', 'University of Washington',\n",
       "       'Temple University', 'University of Wisconsin',\n",
       "       'Stanford Univeristy', 'Cornell University',\n",
       "       'University of California - Berkeley', 'University of Oklahoma',\n",
       "       'University of the Pacific',\n",
       "       'University of California - Los Angeles', 'University of Arkansas',\n",
       "       'Oakton Community College', 'University of San Diego',\n",
       "       'University of North Carolina', 'Kailua High School',\n",
       "       'University of Georgia', 'University of Southern California',\n",
       "       'Needham High School', 'Syracuse University', 'Purdue University',\n",
       "       'University of Notre Dame', 'Saugus High School',\n",
       "       'Coastal Carolina', 'Texas A&M University',\n",
       "       'Indiana State University', 'Arizona State University',\n",
       "       'Brown University', 'University of Kansas', 'Harvard University',\n",
       "       'Binghamton University', 'University of Kentucky',\n",
       "       'Northern Michigan', 'University of Louisville',\n",
       "       'Florida International University', 'U.S. Performance Academy',\n",
       "       'Boston College', nan, 'Laguna Beach', 'University of Oregon',\n",
       "       'University of Florida', 'Princeton University',\n",
       "       'University of Maryland', 'University of Illinois',\n",
       "       'University of California - Santa Barbara',\n",
       "       'University of Virginia', 'Nicolet High School',\n",
       "       'University of Minnesota', 'University of Arizona',\n",
       "       'Colorado State University', 'Washington State',\n",
       "       'University of Michigan', 'Adams State University',\n",
       "       'Nimbin University', 'Texas Tech University',\n",
       "       'Mountain Ridge High School', 'University of Connecticut',\n",
       "       'California - Riverside', 'Rockford High School',\n",
       "       'Belmont University', 'Clemson University', 'Baylor University',\n",
       "       'University of Mississippi', 'Marian University',\n",
       "       'Florida Gulf Coast University', 'Radford High School',\n",
       "       'University of Texas', 'Air Force Academy', 'Mesa College',\n",
       "       'Rutgers University', 'Ashland University',\n",
       "       'Santa Maria High School', 'Virginia Tech University',\n",
       "       'Brigham Young University', 'Cleveland Heights High School',\n",
       "       'University of California - Irvine', 'Georgetown University',\n",
       "       'Yale University', 'Georgia Tech University',\n",
       "       'University of Nottingham', 'University of Tennessee',\n",
       "       'Coppin State University', 'Flint Northwestern High School',\n",
       "       'Bryan High School', 'University of Akron',\n",
       "       'Florida State University ', 'San Jose State University',\n",
       "       'University of Nevada', 'Homeschooled', 'University of New Mexico',\n",
       "       \"St. John's University\", 'Iona College', 'Long Beach State',\n",
       "       'George Mason', 'Southern Illinois University',\n",
       "       'University of Kentucky ', 'Laurel Springs High School',\n",
       "       'Oregon State University', 'The Hotchkiss School',\n",
       "       'Michigan State University', 'U.S. Naval Academy',\n",
       "       'University of Delaware', 'Bulgaria National Sports Academy',\n",
       "       'University of Albania', 'Kansas State University',\n",
       "       'Woodside High School', 'Hampton University',\n",
       "       'Oak Park High School', 'Minneapolis Washburn',\n",
       "       'Croom High School', 'Auburn University', 'Wake Forest University',\n",
       "       'King University', 'St. Cloud State University', 'Simon Fraser',\n",
       "       'Iowa State University', 'Fort Lewis College', 'DeVry University',\n",
       "       'Southern Methodist University', 'University of Utah',\n",
       "       'Iroquois High School', 'Ohio State University',\n",
       "       'University of Missouri', 'Stillman College', 'Roberts Wesleyan',\n",
       "       'Chestatee High School', 'Pepperdine University',\n",
       "       'Marquette University', 'University of Nebraska',\n",
       "       'Northwestern University', 'Troy University',\n",
       "       'Santa Clara Univeristy', 'Milpitas High School',\n",
       "       'California State University - Sacramento', 'Columbia University',\n",
       "       'Florida State University', 'Middleton Highschool',\n",
       "       'John Marshall High School', 'C.E. Byrd High School',\n",
       "       'The Latin School of Chicago', 'Glenbrook High School',\n",
       "       'University of California - Davis',\n",
       "       'California State Polytechnic University',\n",
       "       'Washington State University', 'Highland Park High School',\n",
       "       'Universty of Idaho', 'Villanova Univeristy',\n",
       "       'East Carolina University', 'Harwood Union High School',\n",
       "       'Libertyville High School', 'Wake Forest University ',\n",
       "       'Eastern Illinois University', 'Mount Carmel High School',\n",
       "       'Colgate University', 'Abeka Academy', 'Middlebury College',\n",
       "       'Broward Virtual High School', 'Saddleback College',\n",
       "       'North Carolina State University', 'University of St. Mary',\n",
       "       'Spring Creek Academy', 'Provo High School', 'Whitman College',\n",
       "       'Fayetteville High School', 'Mount Sinai School of Medicine',\n",
       "       'University of Montana', 'University of Wyoming',\n",
       "       'University of Alaska-Fairbanks', 'Greenwich Country Day',\n",
       "       'University of Portland', 'Ithaca College',\n",
       "       'Oklahoma Baptist University', 'Jackson State',\n",
       "       'Queens University', 'Northern Michigan University',\n",
       "       'Regis Jesuit High School', 'Lindenwood University',\n",
       "       'Luther Burbank High School', 'University of South Carolina',\n",
       "       'Eastern New Mexico State University',\n",
       "       'Grossmont-Cuyamaca Community College',\n",
       "       'Schenectady County Community College', 'Scripps Ranch',\n",
       "       'Univeristy of Georgia', 'Miami-Dade College',\n",
       "       'University of South Florida', 'College of Charleston',\n",
       "       'Augusta State University', 'Fresno State University',\n",
       "       'La Salle University', 'Fairmont State University',\n",
       "       'University of Central Florida', 'Newington College',\n",
       "       'Loyola Marymount', 'Oklahoma State University', 'Winder Academy',\n",
       "       'University of Miami', 'Palomar College',\n",
       "       'Mt. San Jacinto College', 'Taweethapisek High School',\n",
       "       'Louisiana State University', 'Central High School',\n",
       "       'Voerde High School', 'California Lutheran University',\n",
       "       'Drexel University', 'Kempner High School',\n",
       "       'Union Catholic Regional High School', 'University of Pittsburgh',\n",
       "       'Boulder High School', 'Mater Dei', 'Loyola University Chicago',\n",
       "       'Kerr High School', 'University of Southern Mississippi',\n",
       "       'North Shore Community College', 'Barton Community College',\n",
       "       'Bishop Gorman High School', 'West Virginia University',\n",
       "       'San Diego State University', 'Wellington-Napoleon High School'],\n",
       "      dtype=object)"
      ]
     },
     "execution_count": 20,
     "metadata": {},
     "output_type": "execute_result"
    }
   ],
   "source": [
    "total_medals.COLLEGE.unique()"
   ]
  },
  {
   "cell_type": "code",
   "execution_count": 21,
   "metadata": {},
   "outputs": [],
   "source": [
    "def COLLEGEInList(COLLEGE_name):\n",
    "    return (COLLEGE_name in total_medals_df.index.levels[0])"
   ]
  },
  {
   "cell_type": "code",
   "execution_count": 22,
   "metadata": {},
   "outputs": [],
   "source": [
    "def printCOLLEGE():\n",
    "    print (\"---------------- COLLEGE ----------------\")\n",
    "    print (\"\\n\".join(total_medals_df.index.levels[0]))"
   ]
  },
  {
   "cell_type": "code",
   "execution_count": null,
   "metadata": {},
   "outputs": [
    {
     "name": "stdout",
     "output_type": "stream",
     "text": [
      "\n",
      "\n",
      " Welcome to our Data Store\n",
      "a) List all college in data\n",
      "b) Create a graph for a specific college\n",
      "c) Show all data for a specific college\n",
      "\n",
      "0) Exit\n"
     ]
    }
   ],
   "source": [
    "print (\"\\n\\n Welcome to our Data Store\")\n",
    "print (\"a) List all college in data\")\n",
    "print (\"b) Create a graph for a specific college\")\n",
    "print (\"c) Show all data for a specific college\")\n",
    "print (\"\\n0) Exit\")\n",
    "\n",
    "option = input (\"What is your college? \")\n",
    "\n",
    "if option in [\"b\",\"c\"]:\n",
    "    while True:\n",
    "        COLLEGE = input (\"Enter College Name (0 to go back): \")\n",
    "        if COLLEGE == \"0\":\n",
    "            option = \"0\"\n",
    "            break\n",
    "        if COLLEGEInList(COLLEGE_name):\n",
    "            break\n",
    "        print (COLLEGE, \"not in list. Try again\")\n",
    "if (option == \"a\"):\n",
    "    printCOLLEGE()\n",
    "if (option == \"b\"):\n",
    "    print (\"\\n\\n ---------------\", COLLEGE)\n",
    "    total_medals_df.loc[COLLEGE].plot(kind=\"bar\")\n",
    "    plt.show()                  \n",
    "    print (\"\\n\\n ---------------------------\")\n",
    "if (option == \"c\"):\n",
    "    print (\"\\n\\n ---------------\", COLLEGE)\n",
    "    print(total_medals_df.loc[COLLEGE])\n",
    "    print (\"\\n\\n ---------------------------\")"
   ]
  },
  {
   "cell_type": "code",
   "execution_count": null,
   "metadata": {},
   "outputs": [],
   "source": [
    "my_plot = total_medals.groupby([\"COLLEGE\",]).size().plot(kind=\"bar\", fontsize = 18, figsize = (90, 50))\n",
    "my_plot.set_title(\"Athletes per Sport\", fontsize = 40)\n",
    "my_plot.set_xlabel(\"Number of Athletes\", fontsize = 50, color = \"blue\")\n",
    "my_plot.set_ylabel(\"Sport\", fontsize = 30, color = \"red\")"
   ]
  },
  {
   "cell_type": "markdown",
   "metadata": {},
   "source": [
    "<b><font color=\"blue\", size = 4>b)</font></b> Create a search engine that allows the user to enter two inputs (e.g. country, sport) and it will print a formatted lists of all athletes meeting the criteria."
   ]
  },
  {
   "cell_type": "markdown",
   "metadata": {},
   "source": [
    "<span style=\"background-color: #FFFF00\">Your answer here</span>"
   ]
  },
  {
   "cell_type": "code",
   "execution_count": null,
   "metadata": {},
   "outputs": [],
   "source": [
    "def countryInList(country_name):\n",
    "    return (country_name in total_medals_df.index.levels[0])"
   ]
  },
  {
   "cell_type": "code",
   "execution_count": null,
   "metadata": {},
   "outputs": [],
   "source": [
    "def printCountries():\n",
    "    print (\"---------------- COUNTRIES ----------------\")\n",
    "    print (\"\\n\".join(total_medals_df.index.levels[0]))"
   ]
  },
  {
   "cell_type": "code",
   "execution_count": null,
   "metadata": {},
   "outputs": [],
   "source": [
    "print (\"\\n\\n Welcome to our Data Store\")\n",
    "print (\"a) List all countries in data\")\n",
    "print (\"b) Create a graph for a specific country\")\n",
    "print (\"c) Show all data for a specific country\")\n",
    "print (\"\\n0) Exit\")\n",
    "\n",
    "option = input (\"What is your selection? \")\n",
    "\n",
    "if option in [\"b\",\"c\"]:\n",
    "    while True:\n",
    "        country = input (\"Enter Country Name (0 to go back): \")\n",
    "        if country == \"0\":\n",
    "            option = \"0\"\n",
    "            break\n",
    "        if countryInList(country):\n",
    "            break\n",
    "        print (country, \"not in list. Try again\")\n",
    "if (option == \"a\"):\n",
    "    printCountries()\n",
    "if (option == \"b\"):\n",
    "    print (\"\\n\\n ---------------\", country)\n",
    "    total_medals_df.loc[country].plot(kind=\"bar\")\n",
    "    plt.show()                  \n",
    "    print (\"\\n\\n ---------------------------\")\n",
    "if (option == \"c\"):\n",
    "    print (\"\\n\\n ---------------\", country)\n",
    "    print(total_medals_df.loc[country])\n",
    "    print (\"\\n\\n ---------------------------\")"
   ]
  },
  {
   "cell_type": "code",
   "execution_count": null,
   "metadata": {},
   "outputs": [],
   "source": []
  }
 ],
 "metadata": {
  "kernelspec": {
   "display_name": "Python 3",
   "language": "python",
   "name": "python3"
  },
  "language_info": {
   "codemirror_mode": {
    "name": "ipython",
    "version": 3
   },
   "file_extension": ".py",
   "mimetype": "text/x-python",
   "name": "python",
   "nbconvert_exporter": "python",
   "pygments_lexer": "ipython3",
   "version": "3.6.5"
  }
 },
 "nbformat": 4,
 "nbformat_minor": 1
}
