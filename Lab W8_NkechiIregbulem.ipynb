{
 "cells": [
  {
   "cell_type": "markdown",
   "metadata": {},
   "source": [
    "<p class=\"pull-left\">\n",
    "COMP 061 - Programming for Data Science\n",
    "</p>\n",
    "<div class=\"pull-right\">\n",
    "<ul class=\"list-inline\">\n",
    "Copyright © Dana Nehoran 2017\n",
    "</ul>\n",
    "</div>"
   ]
  },
  {
   "cell_type": "markdown",
   "metadata": {},
   "source": [
    " <div style=\"background-color: #FFF8C6; border:1px solid #000; margin-left: 2px; margin-right: 2px; \n",
    "\n",
    "padding-bottom: 2px; padding-left: 2px; padding-right: 1px; padding-top: 10px;\">\n",
    "<center><b><font size=\"6\">Lab Week 8</font></b></center>\n",
    "</div>"
   ]
  },
  {
   "cell_type": "code",
   "execution_count": 1,
   "metadata": {},
   "outputs": [],
   "source": [
    "# Preparation for pandas and NumPy\n",
    "import numpy as np\n",
    "import pandas as pd\n",
    "from pandas import DataFrame, Series\n",
    "\n",
    "# Set some pandas options\n",
    "pd.set_option('display.notebook_repr_html', False)\n",
    "pd.set_option('display.max_rows', 60)\n",
    "pd.set_option('display.max_columns', 60)\n",
    "pd.set_option('display.width', 1000)\n",
    "\n",
    "# Preparation for matplotlib\n",
    "%matplotlib inline "
   ]
  },
  {
   "cell_type": "markdown",
   "metadata": {},
   "source": [
    "<blockquote style=\"border: 2px solid #666; padding: 10px; background-color: #99e6ff\"><b> Question 1:</b> Simple Recursion\n",
    "<div class=\"pull-right\">\n",
    "Practice for assignment question 1\n",
    "</div>\n",
    "</blockquote>"
   ]
  },
  {
   "cell_type": "markdown",
   "metadata": {},
   "source": [
    "The following questions will refer to people at SFO (San Francisco Airport) \n",
    "\n",
    "Passengers may check in zero items, one items or more.\n",
    "\n",
    "For this exercise, we assume that the names of the passengers are unique. The items checked in by the passengers will have their name."
   ]
  },
  {
   "cell_type": "markdown",
   "metadata": {},
   "source": [
    "<b><font color=\"blue\", size = 4>a)</font></b> Create a few lists of all items checked in with multiple duplicates. The duplicates are not necessarily close to each other. For example, you may have \"John Smith\", \"Peter Gran\", \"Ann Saens\", \"John Smith\", \"John Smith\".\n",
    "\n",
    "Warning: duplicates are case sensitive: \"Ann\" is different from \"ann\"\n",
    "\n",
    "Your lists:\n",
    "\n",
    "- List 1 - A list of the luggage checked in by passengers (at least 10 items) for the flight from SFO to Reno (RNO)\n",
    "- List 2 - A list of the luggage checked in by passengers (at least 10 items) for the flight from SFO to LAS\n",
    "- List 3 - A list of the luggage checked in by passengers (at least 10 items) for the flight from SFO to POR\n",
    "- List 4 - A partial list with just 4 items (you decide the destination)\n",
    "- List 5 - An empty list (check in hasn't started yet)"
   ]
  },
  {
   "cell_type": "markdown",
   "metadata": {},
   "source": [
    "<span style=\"background-color: #FFFF00\">Your answer here</span>"
   ]
  },
  {
   "cell_type": "code",
   "execution_count": 33,
   "metadata": {},
   "outputs": [],
   "source": [
    "SFO_RNO = [\"Nkechi Iregbulem\", \"Harry Potter\", \"Michael Jackson\", \"Justin Bieber\", \"Brad Pitt\", \"Kim Kardashian\", \"Jack Pearson\", \"Sam Kolder\", \"Cody Simpson\", \"Randal Pearson\"]\n",
    "SFO_LAS = [\"Josh Peck\", \"Drake Bell\", \"Paris Jackson\", \"Sara Kamine\", \"Sophia Khoury\",\"Jack Black\", \"Austin Mcbroom\", \"Kyle Kaiser\", \"Ella Soares\", \"Janet Henley\"]\n",
    "SFO_POR = [\"Meghan Markle\",\"Kaylee Serrano\", \"Taysha Tiatia\", \"Rana Azzam\", \"Mckenna Goldstein\", \"Bailee Cochran\", \"Jordan Munsell\", \"Brain Boswell\", \"Erick Miseroy\", \"Tracy Chapman\"]\n",
    "LAX_MIA = [\"Sabrina Claudio\", \"Snoh Aalegra\", \"Sinead Harnett\", \"Jorja Smith\"]\n",
    "LAX_DBI = []"
   ]
  },
  {
   "cell_type": "markdown",
   "metadata": {},
   "source": [
    "<b><font color=\"blue\", size = 4>b)</font></b> Create a function `findPerson(person_name)` that uses a loop and returns the index of the first item checked in.<br>\n",
    "Run your function 10 times with using all your lists"
   ]
  },
  {
   "cell_type": "markdown",
   "metadata": {},
   "source": [
    "<span style=\"background-color: #FFFF00\">Your answer here</span>"
   ]
  },
  {
   "cell_type": "code",
   "execution_count": 27,
   "metadata": {},
   "outputs": [
    {
     "name": "stdout",
     "output_type": "stream",
     "text": [
      "0\n",
      "1\n",
      "0\n",
      "3\n",
      "None\n",
      "6\n",
      "2\n",
      "1\n",
      "4\n",
      "1\n"
     ]
    }
   ],
   "source": [
    "def findPersonR(my_list, name, i):\n",
    "    for i in range(len(my_list)):\n",
    "        if my_list[i] == name:\n",
    "            return i\n",
    "            return -1\n",
    "if __name__ == \"__main__\":\n",
    "    print(findPersonR(SFO_LAS,\"Josh Peck\", 0))\n",
    "    print(findPersonR(SFO_POR,\"Kaylee Serrano\", 0))\n",
    "    print(findPersonR(LAX_MIA,\"Sabrina Claudio\", 0))\n",
    "    print(findPersonR(LAX_MIA,\"Jorja Smith\", 0))\n",
    "    print(findPersonR(LAX_DBI,\"\", 0))\n",
    "    print(findPersonR(SFO_RNO,\"Jack Pearson\", 0))\n",
    "    print(findPersonR(SFO_LAS,\"Paris Jackson\", 0))\n",
    "    print(findPersonR(LAX_MIA,\"Snoh Aalegra\", 0))\n",
    "    print(findPersonR(SFO_POR,\"Mckenna Goldstein\", 0))\n",
    "    print(findPersonR(SFO_RNO,\"Harry Potter\", 0))"
   ]
  },
  {
   "cell_type": "markdown",
   "metadata": {},
   "source": [
    "<b><font color=\"blue\", size = 4>c)</font></b> Create a recursive function `findPersonR(person_name)` that returns the index of the first item checked in.<br>\n",
    "Run your function 10 times with using all your lists"
   ]
  },
  {
   "cell_type": "markdown",
   "metadata": {},
   "source": [
    "<span style=\"background-color: #FFFF00\">Your answer here</span>"
   ]
  },
  {
   "cell_type": "code",
   "execution_count": 28,
   "metadata": {},
   "outputs": [
    {
     "name": "stdout",
     "output_type": "stream",
     "text": [
      "0\n",
      "1\n",
      "2\n",
      "3\n",
      "4\n",
      "5\n",
      "6\n",
      "7\n",
      "8\n",
      "9\n"
     ]
    }
   ],
   "source": [
    "def findPerson(my_list, name, i):\n",
    "    if i == len(my_list):\n",
    "        return -1\n",
    "    if my_list[i]== name:\n",
    "        return i\n",
    "    return findPerson(my_list, name, i+1)\n",
    "if __name__ == \"__main__\":\n",
    "    print(findPerson(SFO_RNO, \"Nkechi Iregbulem\", 0))\n",
    "    print(findPerson(SFO_RNO, \"Harry Potter\", 0))\n",
    "    print(findPerson(SFO_RNO, \"Michael Jackson\", 0))\n",
    "    print(findPerson(SFO_RNO, \"Justin Bieber\", 0))\n",
    "    print(findPerson(SFO_RNO, \"Brad Pitt\", 0))\n",
    "    print(findPerson(SFO_RNO, \"Kim Kardashian\", 0))\n",
    "    print(findPerson(SFO_RNO, \"Jack Pearson\", 0))\n",
    "    print(findPerson(SFO_RNO, \"Sam Kolder\", 0))\n",
    "    print(findPerson(SFO_RNO, \"Cody Simpson\", 0))\n",
    "    print(findPerson(SFO_RNO, \"Randal Pearson\", 0))"
   ]
  },
  {
   "cell_type": "markdown",
   "metadata": {},
   "source": [
    "<blockquote style=\"border: 2px solid #666; padding: 10px; background-color: #99e6ff\"><b> Question 2:</b> More Recursion\n",
    "<div class=\"pull-right\">\n",
    "Practice for homework question 1 & 2\n",
    "</div>\n",
    "</blockquote>"
   ]
  },
  {
   "cell_type": "markdown",
   "metadata": {},
   "source": [
    "<b><font color=\"blue\", size = 4>d)</font></b> Create a function `countItems(person_name)` that uses a loop to return the number of items the person checked in<br>\n",
    "Run your function 10 times using all your lists"
   ]
  },
  {
   "cell_type": "markdown",
   "metadata": {},
   "source": [
    "<span style=\"background-color: #FFFF00\">Your answer here</span>"
   ]
  },
  {
   "cell_type": "code",
   "execution_count": 35,
   "metadata": {},
   "outputs": [
    {
     "name": "stdout",
     "output_type": "stream",
     "text": [
      "1\n",
      "1\n",
      "1\n",
      "1\n",
      "1\n",
      "1\n",
      "1\n",
      "1\n",
      "1\n",
      "1\n"
     ]
    }
   ],
   "source": [
    "def countItems(my_list, name):\n",
    "    count = 0\n",
    "    for c in range(len(my_list)):\n",
    "        if my_list[c] == name:\n",
    "            count= count + 1\n",
    "    return(count)\n",
    "if __name__ == \"__main__\":\n",
    "    print(countItems(SFO_LAS, \"Josh Peck\"))\n",
    "    print(countItems(SFO_RNO, \"Brad Pitt\"))\n",
    "    print(countItems(SFO_POR, \"Meghan Markle\"))\n",
    "    print(countItems(LAX_MIA, \"Sabrina Claudio\"))\n",
    "    print(countItems(SFO_RNO, \"Justin Bieber\"))\n",
    "    print(countItems(SFO_LAS, \"Sophia Khoury\"))\n",
    "    print(countItems(SFO_POR, \"Kaylee Serrano\"))\n",
    "    print(countItems(LAX_MIA, \"Jorja Smith\"))\n",
    "    print(countItems(SFO_RNO, \"Harry Potter\"))\n",
    "    print(countItems(SFO_RNO, \"Sam Kolder\"))"
   ]
  },
  {
   "cell_type": "markdown",
   "metadata": {},
   "source": [
    "<b><font color=\"blue\", size = 4>e)</font></b> Create a recursive function `countItemsR(person_name)` that returns the number of items the person checked in<br>\n",
    "Run your function 10 times using all your lists"
   ]
  },
  {
   "cell_type": "markdown",
   "metadata": {},
   "source": [
    "<span style=\"background-color: #FFFF00\">Your answer here</span>"
   ]
  },
  {
   "cell_type": "code",
   "execution_count": 83,
   "metadata": {},
   "outputs": [
    {
     "name": "stdout",
     "output_type": "stream",
     "text": [
      "1\n",
      "1\n",
      "1\n",
      "1\n",
      "1\n",
      "1\n",
      "1\n",
      "1\n",
      "1\n",
      "1\n"
     ]
    }
   ],
   "source": [
    "def countItemsR(my_list, name, i):\n",
    "    if i == len(my_list):\n",
    "        return 0\n",
    "    if name == my_list[i]:\n",
    "        return (1+countItemsR(my_list, name, i+1))\n",
    "    return countItemsR(my_list, name, i+1)\n",
    "if __name__ == \"__main__\":\n",
    "    print(countItemsR(SFO_RNO, \"Nkechi Iregbulem\", 0))\n",
    "    print(countItemsR(SFO_LAS, \"Drake Bell\", 0))\n",
    "    print(countItemsR(LAX_MIA, \"Snoh Aalegra\", 0))\n",
    "    print(countItemsR(SFO_POR, \"Bailee Cochran\", 0))\n",
    "    print(countItemsR(SFO_LAS, \"Jack Black\", 0))\n",
    "    print(countItemsR(SFO_LAS, \"Austin Mcbroom\", 0))\n",
    "    print(countItemsR(LAX_MIA, \"Jorja Smith\", 0))\n",
    "    print(countItemsR(SFO_RNO, \"Harry Potter\", 0))\n",
    "    print(countItemsR(SFO_RNO, \"Sam Kolder\", 0))\n",
    "    print(countItemsR(SFO_RNO, \"Cody Simpson\", 0))"
   ]
  },
  {
   "cell_type": "markdown",
   "metadata": {},
   "source": [
    "<blockquote style=\"border: 2px solid #666; padding: 10px; background-color: #99e6ff\"><b> Question 3:</b> More Advanced\n",
    "<div class=\"pull-right\">\n",
    "Practice for homework question 3\n",
    "</div>\n",
    "</blockquote>"
   ]
  },
  {
   "cell_type": "markdown",
   "metadata": {},
   "source": [
    "<b><font color=\"blue\", size = 4>f)</font></b> Create a function `getLongestName()` that uses a loop to return the name of the person with the longest name<br>\n",
    "Run your function 4 times, one for each of your lists"
   ]
  },
  {
   "cell_type": "markdown",
   "metadata": {},
   "source": [
    "<span style=\"background-color: #FFFF00\">Your answer here</span>"
   ]
  },
  {
   "cell_type": "code",
   "execution_count": 59,
   "metadata": {},
   "outputs": [
    {
     "name": "stdout",
     "output_type": "stream",
     "text": [
      "Nkechi Iregbulem\n",
      "Austin Mcbroom\n",
      "Mckenna Goldstein\n",
      "Sabrina Claudio\n"
     ]
    }
   ],
   "source": [
    "def getLongestName(my_list):\n",
    "    return max(my_list, key=len)\n",
    "if __name__ == \"__main__\":\n",
    "    print(getLongestName(SFO_RNO))\n",
    "    print(getLongestName(SFO_LAS))\n",
    "    print(getLongestName(SFO_POR))\n",
    "    print(getLongestName(LAX_MIA))"
   ]
  },
  {
   "cell_type": "markdown",
   "metadata": {},
   "source": [
    "<b><font color=\"blue\", size = 4>g)</font></b> Create a recursive function `getLongestNameR()` that returns the name of the person with the longest name<br>\n",
    "Run your function 4 times, one for each of your lists"
   ]
  },
  {
   "cell_type": "markdown",
   "metadata": {},
   "source": [
    "<span style=\"background-color: #FFFF00\">Your answer here</span>"
   ]
  },
  {
   "cell_type": "code",
   "execution_count": 91,
   "metadata": {},
   "outputs": [
    {
     "name": "stdout",
     "output_type": "stream",
     "text": [
      "Nkechi Iregbulem\n",
      "Austin Mcbroom\n",
      "Mckenna Goldstein\n",
      "Sabrina Claudio\n"
     ]
    }
   ],
   "source": [
    "def getLongestNameR(my_list):\n",
    "\n",
    "    maximum_length = 0\n",
    "    for word in my_list:\n",
    "        try:\n",
    "            if type(word) == str:\n",
    "                if maximum_length < len(word):\n",
    "                    maximum_length = len(word)\n",
    "            else:\n",
    "                maximum_length = longest_string((word))\n",
    "        except:\n",
    "            print('Error')\n",
    "\n",
    "    return max(my_list, key=len)\n",
    "if __name__ == \"__main__\":\n",
    "    print(getLongestNameR(SFO_RNO))\n",
    "    print(getLongestNameR(SFO_LAS))\n",
    "    print(getLongestNameR(SFO_POR))\n",
    "    print(getLongestNameR(LAX_MIA))"
   ]
  },
  {
   "cell_type": "code",
   "execution_count": null,
   "metadata": {},
   "outputs": [],
   "source": []
  }
 ],
 "metadata": {
  "kernelspec": {
   "display_name": "Python 3",
   "language": "python",
   "name": "python3"
  },
  "language_info": {
   "codemirror_mode": {
    "name": "ipython",
    "version": 3
   },
   "file_extension": ".py",
   "mimetype": "text/x-python",
   "name": "python",
   "nbconvert_exporter": "python",
   "pygments_lexer": "ipython3",
   "version": "3.6.5"
  }
 },
 "nbformat": 4,
 "nbformat_minor": 2
}
