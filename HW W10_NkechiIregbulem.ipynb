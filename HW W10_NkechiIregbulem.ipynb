{
 "cells": [
  {
   "cell_type": "markdown",
   "metadata": {
    "collapsed": true
   },
   "source": [
    "<p class=\"pull-left\">\n",
    "COMP 061 - Programming for Data Science\n",
    "</p>\n",
    "<div class=\"pull-right\">\n",
    "<ul class=\"list-inline\">\n",
    "Copyright © Dana Nehoran 2017\n",
    "</ul>\n",
    "</div>"
   ]
  },
  {
   "cell_type": "markdown",
   "metadata": {},
   "source": [
    "<div style=\"background-color: #FFF8C6; border:1px solid #000; margin-left: 2px; margin-right: 2px; \n",
    "\n",
    "padding-bottom: 2px; padding-left: 2px; padding-right: 1px; padding-top: 10px;\">\n",
    "<center><b><font size=\"6\">Homework Week 10</font></b></center>\n",
    "</div>"
   ]
  },
  {
   "cell_type": "code",
   "execution_count": 1,
   "metadata": {},
   "outputs": [],
   "source": [
    "# Preparation for pandas and NumPy\n",
    "import numpy as np\n",
    "import pandas as pd\n",
    "from pandas import DataFrame, Series\n",
    "import requests\n",
    "from bs4 import BeautifulSoup\n",
    "\n",
    "# Set some pandas options\n",
    "pd.set_option('display.notebook_repr_html', False)\n",
    "pd.set_option('display.max_rows', 60)\n",
    "pd.set_option('display.max_columns', 60)\n",
    "pd.set_option('display.width', 1000)\n",
    "\n",
    "# Preparation for matplotlib\n",
    "%matplotlib inline "
   ]
  },
  {
   "cell_type": "markdown",
   "metadata": {},
   "source": [
    "<blockquote style=\"border: 2px solid #666; padding: 10px; background-color: #ccc;\"><b>Question 1:</b> \n",
    "Base Class</blockquote>"
   ]
  },
  {
   "cell_type": "markdown",
   "metadata": {},
   "source": [
    "For this exercise, you will create data structures for Broadway venues.\n",
    "You will start with the `Show` class that contains all the characteristics of a venue for a Broadway production.\n"
   ]
  },
  {
   "cell_type": "markdown",
   "metadata": {},
   "source": [
    "We work with an agent that is responsable for booking the venue for the productions. Our agent has access to all Broadway venues, and calculates the price according to the following criteria:\n",
    "- If the performance uses special effects, it costs \\$13,000 per hour of performance, otherwise it costs \\$12,000\n",
    "- Additional \\$6,000 are charged if the performance requires special wood construction\n",
    "- Additional \\$10 per sit (all sits cost the same)\n",
    "- To promote Broadway promotions to teenagers, a discount on 10% is applied if the production offers promotions to local high schools.\n",
    "\n",
    "<b><font color=\"blue\", size = 4>a)</font></b> Create the class `Show` with all necessary members and methods.\n",
    "\n",
    "Think on basic characteristics of a venue, including venue name, stage size, number of orchestra sits, mezzanine sits and balcony sits, theatre name, address, number of staff members.\n",
    "\n",
    "\n",
    "\n",
    "&nbsp;&nbsp;&nbsp;&nbsp;&nbsp;&nbsp;<b><font color=\"blue\", size = 4>a.1)</font></b> In addition to other methods you think are necessary, create the `netCostOfaShow()` method that returns the basic cost of one single performance according to the following criteria:\n",
    "\n",
    "&nbsp;&nbsp;&nbsp;&nbsp;&nbsp;&nbsp;<b><font color=\"blue\", size = 4>a.2)</font></b> Your class should include the `__str__` method to allow printing"
   ]
  },
  {
   "cell_type": "markdown",
   "metadata": {},
   "source": [
    "<span style=\"background-color: #FFFF00\">Your answer here</span>"
   ]
  },
  {
   "cell_type": "code",
   "execution_count": 38,
   "metadata": {},
   "outputs": [],
   "source": [
    "class Show:\n",
    "    def __init__(self, venue_name, stage_size, address, num_staff,special_effects, \n",
    "                special_wood, seniority, seats, hours):\n",
    "        self.venue_name = venue_name\n",
    "        self.stage_size = stage_size\n",
    "        self.address = address\n",
    "        self.num_staff = num_staff\n",
    "        self.special_effects = special_effects\n",
    "        self.special_wood = special_wood\n",
    "        self.seniority = seniority \n",
    "        self.seats = seats\n",
    "        self.hours = hours\n",
    "    def netCostofaShow(self):\n",
    "        discount = .10\n",
    "        base_price = 12000*self.hours + 10*self.seats\n",
    "        total = base_price\n",
    "        if self.special_effects:\n",
    "            total += (self.hours*13000)\n",
    "        if self.special_wood:\n",
    "            total += base_price + 6000\n",
    "        if self.seniority == \"teenagers\":\n",
    "            total += base_price - (base_price*discount)\n",
    "        return total\n",
    "    def __str__(self):\n",
    "        global message\n",
    "        message = \"\"\n",
    "        message += \"Venue Name: \" + self.venue_name + \"\\n\"\n",
    "        message += \"Stage Size: \" + str(self.stage_size) + \"\\n\"\n",
    "        message += \"address: \" + self.address + \"\\n\"\n",
    "        message += \"number of staff: \" + str(self.num_staff) + \"\\n\"\n",
    "        message += \"special effects: \" + self.special_effects + \"\\n\"\n",
    "        message += \"special wood: \" + self.special_wood + \"\\n\"\n",
    "        message += \"Seniority: \" + self.seniority + \"\\n\"\n",
    "        message += \"number of seats: \" + str(self.seats) + \"\\n\"\n",
    "        message += \"number of hours: \" + str(self.hours) + \"\\n\"\n",
    "        message += \"Net Cost of Show: $\" + str(self.netCostofaShow())\n",
    "        return (message)"
   ]
  },
  {
   "cell_type": "markdown",
   "metadata": {},
   "source": [
    "<b><font color=\"blue\", size = 4>b)</font></b> Create four different instances (or objects) of Broadway shows and print them. "
   ]
  },
  {
   "cell_type": "code",
   "execution_count": 41,
   "metadata": {},
   "outputs": [],
   "source": [
    "Venue1 = Show(\"Gotham\", 14, \"4210 Mesa Street\", 45, \"True\", \"False\", \"Adult\", 34, 6)\n",
    "Venue2 = Show(\"New Amsterdamn\", 12, \"Broadway Street\", 23, \"False\", \"True\", \"teenageers\", 39, 8)\n",
    "Venue3 = Show(\"Shubert\",18, \"Fair Lady Lane\", 33, \"True\", \"True\", \"Senior\", 44, 9)\n",
    "Venue4 = Show(\"Miskoff\", 23, \"Broadway Street\", 29, \"False\", \"False\", \"teenagers\", 42, 5)"
   ]
  },
  {
   "cell_type": "code",
   "execution_count": 46,
   "metadata": {},
   "outputs": [
    {
     "name": "stdout",
     "output_type": "stream",
     "text": [
      "Venue Name: Gotham\n",
      "Stage Size: 14\n",
      "address: 4210 Mesa Street\n",
      "number of staff: 45\n",
      "special effects: True\n",
      "special wood: False\n",
      "Seniority: Adult\n",
      "number of seats: 34\n",
      "number of hours: 6\n",
      "Net Cost of Show: $228680\n",
      "---------------------------------\n",
      "Venue Name: New Amsterdamn\n",
      "Stage Size: 12\n",
      "address: Broadway Street\n",
      "number of staff: 23\n",
      "special effects: False\n",
      "special wood: True\n",
      "Seniority: teenageers\n",
      "number of seats: 39\n",
      "number of hours: 8\n",
      "Net Cost of Show: $302780\n",
      "---------------------------------\n",
      "Venue Name: Shubert\n",
      "Stage Size: 18\n",
      "address: Fair Lady Lane\n",
      "number of staff: 33\n",
      "special effects: True\n",
      "special wood: True\n",
      "Seniority: Senior\n",
      "number of seats: 44\n",
      "number of hours: 9\n",
      "Net Cost of Show: $339880\n",
      "---------------------------------\n",
      "Venue Name: Miskoff\n",
      "Stage Size: 23\n",
      "address: Broadway Street\n",
      "number of staff: 29\n",
      "special effects: False\n",
      "special wood: False\n",
      "Seniority: teenagers\n",
      "number of seats: 42\n",
      "number of hours: 5\n",
      "Net Cost of Show: $246218.0\n"
     ]
    }
   ],
   "source": [
    "print(Venue1)\n",
    "print(\"---------------------------------\")\n",
    "print(Venue2)\n",
    "print(\"---------------------------------\")\n",
    "print(Venue3)\n",
    "print(\"---------------------------------\")\n",
    "print(Venue4)"
   ]
  },
  {
   "cell_type": "markdown",
   "metadata": {},
   "source": [
    "<b><font color=\"blue\", size = 4>c)</font></b> Create a list of your shows, add one more show to your list, and print the list using a loop"
   ]
  },
  {
   "cell_type": "code",
   "execution_count": 8,
   "metadata": {},
   "outputs": [],
   "source": [
    "Shows = [\"Hamilton\", \"Harry Potter\", \"Lion King\", \"Mean Girls\", \"Frozen\"]"
   ]
  },
  {
   "cell_type": "code",
   "execution_count": 9,
   "metadata": {},
   "outputs": [
    {
     "name": "stdout",
     "output_type": "stream",
     "text": [
      "Hamilton\n",
      "Harry Potter\n",
      "Lion King\n",
      "Mean Girls\n",
      "Frozen\n"
     ]
    }
   ],
   "source": [
    "i = 0\n",
    "while i < len(Shows):\n",
    "    print(Shows[i])\n",
    "    i += 1"
   ]
  },
  {
   "cell_type": "markdown",
   "metadata": {},
   "source": [
    "<blockquote style=\"border: 2px solid #666; padding: 10px; background-color: #ccc;\"><b>Question 2:</b> \n",
    "Production</blockquote>"
   ]
  },
  {
   "cell_type": "markdown",
   "metadata": {},
   "source": [
    "<b><font color=\"blue\", size = 4>a)</font></b> Create the `Production` class (that inherits the `Show` class) with all necessary members and methods, including the `getRevenue()` and `getProfit()` methods.\n",
    "\n",
    "The performance has additional information, including price of orchestra sits, mezzanine sits and balcony sits, of the performance, performance name, number of actors, total salaries paid to actors\n",
    "\n",
    "&nbsp;&nbsp;&nbsp;&nbsp;&nbsp;&nbsp;<b><font color=\"blue\", size = 4>a.1)</font></b> In addition to other methods you think are necessary, create the `getRevenue()` method that returns the total income from ticket sales, remember that the price is different for orchestra, mezzanine and balcony\n",
    "\n",
    "&nbsp;&nbsp;&nbsp;&nbsp;&nbsp;&nbsp;<b><font color=\"blue\", size = 4>a.2)</font></b> In addition,  create the `getProfit()` method that will be calculated by: $$ profit = getRevenue() - netCostOfAShow() - salaries$$\n",
    "\n",
    "&nbsp;&nbsp;&nbsp;&nbsp;&nbsp;&nbsp;<b><font color=\"blue\", size = 4>a.3)</font></b> Overwride the `__str__` method to make sure it now includes the information about the performance. "
   ]
  },
  {
   "cell_type": "markdown",
   "metadata": {},
   "source": [
    "<span style=\"background-color: #FFFF00\">Your answer here</span>"
   ]
  },
  {
   "cell_type": "code",
   "execution_count": 68,
   "metadata": {},
   "outputs": [],
   "source": [
    "class Production(Show):\n",
    "    def __init__(self,venue_name, stage_size, address, num_staff,special_effects, \n",
    "                special_wood, seniority, seats, hours,performance_name, num_actors, seat_type):\n",
    "        Show.__init__(self, venue_name, stage_size, address, num_staff,special_effects, \n",
    "                special_wood, seniority, seats, hours)\n",
    "        self.performance_name = performance_name\n",
    "        self.num_actors = num_actors\n",
    "        self.seat_type = seat_type\n",
    "    def getRevenue(self):\n",
    "        revenue = self.seats\n",
    "        orchestra = 40\n",
    "        mezzanine = 50\n",
    "        balcony = 60\n",
    "        if self.seat_type == \"orchestra\":\n",
    "            revenue += self.seats*orchestra\n",
    "        if self.seat_type == \"mezzanine\":\n",
    "            revenue += self.seats*mezzanine\n",
    "        if self.seat_type == \"balcony\":\n",
    "            revenue += self.seats*balcony\n",
    "        return revenue\n",
    "    def getSalary(self):\n",
    "        salary = self.num_actors * 12000\n",
    "        return salary\n",
    "    def getProfit(self):\n",
    "        profit = self.getRevenue() - self.netCostofaShow() - self.getSalary()\n",
    "        return profit\n",
    "    def __str__(self):\n",
    "        global message\n",
    "        message = \"\"\n",
    "        message += \"Venue Name: \" + self.venue_name + \"\\n\"\n",
    "        message += \"Stage Size: \" + str(self.stage_size) + \"\\n\"\n",
    "        message += \"address: \" + self.address + \"\\n\"\n",
    "        message += \"number of staff: \" + str(self.num_staff) + \"\\n\"\n",
    "        message += \"special effects: \" + self.special_effects + \"\\n\"\n",
    "        message += \"special wood: \" + self.special_wood + \"\\n\"\n",
    "        message += \"Seniority: \" + self.seniority + \"\\n\"\n",
    "        message += \"number of seats: \" + str(self.seats) + \"\\n\"\n",
    "        message += \"number of hours: \" + str(self.hours) + \"\\n\"\n",
    "        message += \"Net Cost of Show: $\" + str(self.netCostofaShow()) + \"\\n\"\n",
    "        message += \"Performance Name: \" + self.performance_name + \"\\n\"\n",
    "        message += \"Number of Actors: \" + str(self.num_actors) + \"\\n\"\n",
    "        message += \"Seat Type: \" + self.seat_type + \"\\n\"\n",
    "        message += \"Salary: \" + str(self.getSalary()) + \"\\n\"\n",
    "        message += \"Profit: \" + str(self.getProfit()) + \"\\n\"\n",
    "        return (message)"
   ]
  },
  {
   "cell_type": "markdown",
   "metadata": {},
   "source": [
    "<b><font color=\"blue\", size = 4>b)</font></b> Create three Broadway productions and print them"
   ]
  },
  {
   "cell_type": "markdown",
   "metadata": {},
   "source": [
    "<span style=\"background-color: #FFFF00\">Your answer here</span>"
   ]
  },
  {
   "cell_type": "code",
   "execution_count": 69,
   "metadata": {},
   "outputs": [],
   "source": [
    "Hamilton = Production(\"Gotham\", 14, \"4210 Mesa Street\", 45, \"True\", \"False\", \"Adult\", 34, 6,\"Hamilton\", 19, \"orchestra\")\n",
    "Lion_King = Production(\"New Amsterdamn\", 12, \"Broadway Street\", 23, \"False\", \"True\", \"teenageers\", 39, 8,\"Lion King\", 22, \"mezzanine\")\n",
    "Harry_Potter = Production(\"Shubert\",18, \"Fair Lady Lane\", 33, \"True\", \"True\", \"Senior\", 44, 9,\"Harry Potter\", 20, \"balcony\")"
   ]
  },
  {
   "cell_type": "code",
   "execution_count": 70,
   "metadata": {},
   "outputs": [
    {
     "name": "stdout",
     "output_type": "stream",
     "text": [
      "Venue Name: Gotham\n",
      "Stage Size: 14\n",
      "address: 4210 Mesa Street\n",
      "number of staff: 45\n",
      "special effects: True\n",
      "special wood: False\n",
      "Seniority: Adult\n",
      "number of seats: 34\n",
      "number of hours: 6\n",
      "Net Cost of Show: $228680\n",
      "Performance Name: Hamilton\n",
      "Number of Actors: 19\n",
      "Seat Type: orchestra\n",
      "Salary: 228000\n",
      "Profit: -455286\n",
      "\n",
      "---------------------------------\n",
      "Venue Name: New Amsterdamn\n",
      "Stage Size: 12\n",
      "address: Broadway Street\n",
      "number of staff: 23\n",
      "special effects: False\n",
      "special wood: True\n",
      "Seniority: teenageers\n",
      "number of seats: 39\n",
      "number of hours: 8\n",
      "Net Cost of Show: $302780\n",
      "Performance Name: Lion King\n",
      "Number of Actors: 22\n",
      "Seat Type: mezzanine\n",
      "Salary: 264000\n",
      "Profit: -564791\n",
      "\n",
      "---------------------------------\n",
      "Venue Name: Shubert\n",
      "Stage Size: 18\n",
      "address: Fair Lady Lane\n",
      "number of staff: 33\n",
      "special effects: True\n",
      "special wood: True\n",
      "Seniority: Senior\n",
      "number of seats: 44\n",
      "number of hours: 9\n",
      "Net Cost of Show: $339880\n",
      "Performance Name: Harry Potter\n",
      "Number of Actors: 20\n",
      "Seat Type: balcony\n",
      "Salary: 240000\n",
      "Profit: -577196\n",
      "\n"
     ]
    }
   ],
   "source": [
    "print(Hamilton)\n",
    "print(\"---------------------------------\")\n",
    "print(Lion_King)\n",
    "print(\"---------------------------------\")\n",
    "print(Harry_Potter)"
   ]
  },
  {
   "cell_type": "markdown",
   "metadata": {},
   "source": [
    "<blockquote style=\"border: 2px solid #666; padding: 10px; background-color: #ccc;\"><b>Question 3:</b> \n",
    "Performance</blockquote>"
   ]
  },
  {
   "cell_type": "markdown",
   "metadata": {},
   "source": [
    "<b><font color=\"blue\", size = 4>a)</font></b> Create class `Performance` that inherits the `Production` class, and has additional elements of your choice, for example, day and time (can be strings), performance manager, etc"
   ]
  },
  {
   "cell_type": "code",
   "execution_count": 74,
   "metadata": {},
   "outputs": [],
   "source": [
    "class Performance(Production):\n",
    "    def __init__(self,venue_name, stage_size, address, num_staff,special_effects, \n",
    "                special_wood, seniority, seats, hours,performance_name, num_actors, seat_type, day, time, performance_manager):\n",
    "        Production.__init__(self, venue_name, stage_size, address, num_staff,special_effects, \n",
    "                special_wood, seniority, seats, hours,performance_name, num_actors, seat_type)\n",
    "        self.day = day\n",
    "        self.time = time\n",
    "        self.performance_manager = performance_manager\n",
    "        \n",
    "    def __str__(self):\n",
    "        global message\n",
    "        message = \"\"\n",
    "        message += \"Venue Name: \" + self.venue_name + \"\\n\"\n",
    "        message += \"Stage Size: \" + str(self.stage_size) + \"\\n\"\n",
    "        message += \"address: \" + self.address + \"\\n\"\n",
    "        message += \"number of staff: \" + str(self.num_staff) + \"\\n\"\n",
    "        message += \"special effects: \" + self.special_effects + \"\\n\"\n",
    "        message += \"special wood: \" + self.special_wood + \"\\n\"\n",
    "        message += \"Seniority: \" + self.seniority + \"\\n\"\n",
    "        message += \"number of seats: \" + str(self.seats) + \"\\n\"\n",
    "        message += \"number of hours: \" + str(self.hours) + \"\\n\"\n",
    "        message += \"Net Cost of Show: $\" + str(self.netCostofaShow()) + \"\\n\"\n",
    "        message += \"Performance Name: \" + self.performance_name + \"\\n\"\n",
    "        message += \"Number of Actors: \" + str(self.num_actors) + \"\\n\"\n",
    "        message += \"Seat Type: \" + self.seat_type + \"\\n\"\n",
    "        message += \"Salary: \" + str(self.getSalary()) + \"\\n\"\n",
    "        message += \"Profit: \" + str(self.getProfit()) + \"\\n\"\n",
    "        message += \"Day: \" + self.day + \"\\n\"\n",
    "        message += \"Time: \" + self.time + \"\\n\"\n",
    "        message += \"Performance Manager: \" + self.performance_manager + \"\\n\"\n",
    "        return (message)"
   ]
  },
  {
   "cell_type": "code",
   "execution_count": 76,
   "metadata": {},
   "outputs": [],
   "source": [
    "Performance1 = Performance(\"Gotham\", 14, \"4210 Mesa Street\", 45, \"True\", \"False\", \"Adult\", 34, 6,\n",
    "                           \"Hamilton\", 19, \"orchestra\", \"Friday\", \"5:00pm\", \"Scooter Braun\")\n",
    "Performance2 = Performance(\"New Amsterdamn\", 12, \"Broadway Street\", 23, \"False\", \"True\", \"teenageers\", 39, 8,\"Lion King\", 22, \"mezzanine\"\n",
    "                          , \"Thursday\", \"6:00pm\", \"Rachel Lee\")\n",
    "Performance3 = Performance(\"Shubert\",18, \"Fair Lady Lane\", 33, \"True\", \"True\", \"Senior\", 44, 9,\"Harry Potter\", 20, \"balcony\",\n",
    "                          \"Friday\", \"7:00pm\", \"Michael Keaton\")"
   ]
  },
  {
   "cell_type": "code",
   "execution_count": 77,
   "metadata": {},
   "outputs": [
    {
     "name": "stdout",
     "output_type": "stream",
     "text": [
      "Venue Name: Gotham\n",
      "Stage Size: 14\n",
      "address: 4210 Mesa Street\n",
      "number of staff: 45\n",
      "special effects: True\n",
      "special wood: False\n",
      "Seniority: Adult\n",
      "number of seats: 34\n",
      "number of hours: 6\n",
      "Net Cost of Show: $228680\n",
      "Performance Name: Hamilton\n",
      "Number of Actors: 19\n",
      "Seat Type: orchestra\n",
      "Salary: 228000\n",
      "Profit: -455286\n",
      "Day: Friday\n",
      "Time: 5:00pm\n",
      "Performance Manager: Scooter Braun\n",
      "\n",
      "---------------------------------\n",
      "Venue Name: New Amsterdamn\n",
      "Stage Size: 12\n",
      "address: Broadway Street\n",
      "number of staff: 23\n",
      "special effects: False\n",
      "special wood: True\n",
      "Seniority: teenageers\n",
      "number of seats: 39\n",
      "number of hours: 8\n",
      "Net Cost of Show: $302780\n",
      "Performance Name: Lion King\n",
      "Number of Actors: 22\n",
      "Seat Type: mezzanine\n",
      "Salary: 264000\n",
      "Profit: -564791\n",
      "Day: Thursday\n",
      "Time: 6:00pm\n",
      "Performance Manager: Rachel Lee\n",
      "\n",
      "---------------------------------\n",
      "Venue Name: Shubert\n",
      "Stage Size: 18\n",
      "address: Fair Lady Lane\n",
      "number of staff: 33\n",
      "special effects: True\n",
      "special wood: True\n",
      "Seniority: Senior\n",
      "number of seats: 44\n",
      "number of hours: 9\n",
      "Net Cost of Show: $339880\n",
      "Performance Name: Harry Potter\n",
      "Number of Actors: 20\n",
      "Seat Type: balcony\n",
      "Salary: 240000\n",
      "Profit: -577196\n",
      "Day: Friday\n",
      "Time: 7:00pm\n",
      "Performance Manager: Michael Keaton\n",
      "\n"
     ]
    }
   ],
   "source": [
    "print(Performance1)\n",
    "print(\"---------------------------------\")\n",
    "print(Performance2)\n",
    "print(\"---------------------------------\")\n",
    "print(Performance3)"
   ]
  },
  {
   "cell_type": "code",
   "execution_count": null,
   "metadata": {},
   "outputs": [],
   "source": []
  }
 ],
 "metadata": {
  "kernelspec": {
   "display_name": "Python 3",
   "language": "python",
   "name": "python3"
  },
  "language_info": {
   "codemirror_mode": {
    "name": "ipython",
    "version": 3
   },
   "file_extension": ".py",
   "mimetype": "text/x-python",
   "name": "python",
   "nbconvert_exporter": "python",
   "pygments_lexer": "ipython3",
   "version": "3.6.5"
  }
 },
 "nbformat": 4,
 "nbformat_minor": 1
}
